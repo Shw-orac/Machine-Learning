{
 "cells": [
  {
   "cell_type": "code",
   "execution_count": 469,
   "metadata": {},
   "outputs": [],
   "source": [
    "import pandas as pd\n",
    "import seaborn as sns\n",
    "import matplotlib.pyplot as plt\n",
    "import numpy as np\n",
    "from sklearn.model_selection import train_test_split\n",
    "from sklearn.preprocessing import StandardScaler\n",
    "from sklearn.linear_model import LogisticRegression\n",
    "from sklearn.metrics import roc_auc_score,roc_curve,classification_report,confusion_matrix\n",
    "from sklearn.discriminant_analysis import LinearDiscriminantAnalysis\n",
    "from sklearn.neighbors import KNeighborsClassifier\n",
    "from sklearn.naive_bayes import GaussianNB\n",
    "from sklearn.ensemble import BaggingClassifier\n",
    "from sklearn.ensemble import AdaBoostClassifier\n",
    "from sklearn.ensemble import GradientBoostingClassifier\n",
    "from sklearn.model_selection import GridSearchCV\n",
    "from sklearn.tree import DecisionTreeClassifier\n",
    "from sklearn.ensemble import RandomForestClassifier\n",
    "from sklearn import metrics"
   ]
  },
  {
   "cell_type": "code",
   "execution_count": 470,
   "metadata": {},
   "outputs": [
    {
     "data": {
      "text/html": [
       "<div>\n",
       "<style scoped>\n",
       "    .dataframe tbody tr th:only-of-type {\n",
       "        vertical-align: middle;\n",
       "    }\n",
       "\n",
       "    .dataframe tbody tr th {\n",
       "        vertical-align: top;\n",
       "    }\n",
       "\n",
       "    .dataframe thead th {\n",
       "        text-align: right;\n",
       "    }\n",
       "</style>\n",
       "<table border=\"1\" class=\"dataframe\">\n",
       "  <thead>\n",
       "    <tr style=\"text-align: right;\">\n",
       "      <th></th>\n",
       "      <th>vote</th>\n",
       "      <th>age</th>\n",
       "      <th>economic.cond.national</th>\n",
       "      <th>economic.cond.household</th>\n",
       "      <th>Blair</th>\n",
       "      <th>Hague</th>\n",
       "      <th>Europe</th>\n",
       "      <th>political.knowledge</th>\n",
       "      <th>gender</th>\n",
       "    </tr>\n",
       "  </thead>\n",
       "  <tbody>\n",
       "    <tr>\n",
       "      <th>1</th>\n",
       "      <td>Labour</td>\n",
       "      <td>43</td>\n",
       "      <td>3</td>\n",
       "      <td>3</td>\n",
       "      <td>4</td>\n",
       "      <td>1</td>\n",
       "      <td>2</td>\n",
       "      <td>2</td>\n",
       "      <td>female</td>\n",
       "    </tr>\n",
       "    <tr>\n",
       "      <th>2</th>\n",
       "      <td>Labour</td>\n",
       "      <td>36</td>\n",
       "      <td>4</td>\n",
       "      <td>4</td>\n",
       "      <td>4</td>\n",
       "      <td>4</td>\n",
       "      <td>5</td>\n",
       "      <td>2</td>\n",
       "      <td>male</td>\n",
       "    </tr>\n",
       "    <tr>\n",
       "      <th>3</th>\n",
       "      <td>Labour</td>\n",
       "      <td>35</td>\n",
       "      <td>4</td>\n",
       "      <td>4</td>\n",
       "      <td>5</td>\n",
       "      <td>2</td>\n",
       "      <td>3</td>\n",
       "      <td>2</td>\n",
       "      <td>male</td>\n",
       "    </tr>\n",
       "    <tr>\n",
       "      <th>4</th>\n",
       "      <td>Labour</td>\n",
       "      <td>24</td>\n",
       "      <td>4</td>\n",
       "      <td>2</td>\n",
       "      <td>2</td>\n",
       "      <td>1</td>\n",
       "      <td>4</td>\n",
       "      <td>0</td>\n",
       "      <td>female</td>\n",
       "    </tr>\n",
       "    <tr>\n",
       "      <th>5</th>\n",
       "      <td>Labour</td>\n",
       "      <td>41</td>\n",
       "      <td>2</td>\n",
       "      <td>2</td>\n",
       "      <td>1</td>\n",
       "      <td>1</td>\n",
       "      <td>6</td>\n",
       "      <td>2</td>\n",
       "      <td>male</td>\n",
       "    </tr>\n",
       "  </tbody>\n",
       "</table>\n",
       "</div>"
      ],
      "text/plain": [
       "     vote  age  economic.cond.national  economic.cond.household  Blair  Hague  \\\n",
       "1  Labour   43                       3                        3      4      1   \n",
       "2  Labour   36                       4                        4      4      4   \n",
       "3  Labour   35                       4                        4      5      2   \n",
       "4  Labour   24                       4                        2      2      1   \n",
       "5  Labour   41                       2                        2      1      1   \n",
       "\n",
       "   Europe  political.knowledge  gender  \n",
       "1       2                    2  female  \n",
       "2       5                    2    male  \n",
       "3       3                    2    male  \n",
       "4       4                    0  female  \n",
       "5       6                    2    male  "
      ]
     },
     "execution_count": 470,
     "metadata": {},
     "output_type": "execute_result"
    }
   ],
   "source": [
    "ed=pd.read_excel(\"Election_Data.xlsx\",\"Election_Dataset_Two Classes\",index_col=0)\n",
    "ed.head()"
   ]
  },
  {
   "cell_type": "markdown",
   "metadata": {},
   "source": [
    "# Descriptive analysis"
   ]
  },
  {
   "cell_type": "code",
   "execution_count": 471,
   "metadata": {},
   "outputs": [
    {
     "name": "stdout",
     "output_type": "stream",
     "text": [
      "<class 'pandas.core.frame.DataFrame'>\n",
      "Int64Index: 1525 entries, 1 to 1525\n",
      "Data columns (total 9 columns):\n",
      " #   Column                   Non-Null Count  Dtype \n",
      "---  ------                   --------------  ----- \n",
      " 0   vote                     1525 non-null   object\n",
      " 1   age                      1525 non-null   int64 \n",
      " 2   economic.cond.national   1525 non-null   int64 \n",
      " 3   economic.cond.household  1525 non-null   int64 \n",
      " 4   Blair                    1525 non-null   int64 \n",
      " 5   Hague                    1525 non-null   int64 \n",
      " 6   Europe                   1525 non-null   int64 \n",
      " 7   political.knowledge      1525 non-null   int64 \n",
      " 8   gender                   1525 non-null   object\n",
      "dtypes: int64(7), object(2)\n",
      "memory usage: 119.1+ KB\n"
     ]
    }
   ],
   "source": [
    "ed.info()"
   ]
  },
  {
   "cell_type": "code",
   "execution_count": 472,
   "metadata": {},
   "outputs": [
    {
     "data": {
      "text/html": [
       "<div>\n",
       "<style scoped>\n",
       "    .dataframe tbody tr th:only-of-type {\n",
       "        vertical-align: middle;\n",
       "    }\n",
       "\n",
       "    .dataframe tbody tr th {\n",
       "        vertical-align: top;\n",
       "    }\n",
       "\n",
       "    .dataframe thead th {\n",
       "        text-align: right;\n",
       "    }\n",
       "</style>\n",
       "<table border=\"1\" class=\"dataframe\">\n",
       "  <thead>\n",
       "    <tr style=\"text-align: right;\">\n",
       "      <th></th>\n",
       "      <th>age</th>\n",
       "      <th>economic.cond.national</th>\n",
       "      <th>economic.cond.household</th>\n",
       "      <th>Blair</th>\n",
       "      <th>Hague</th>\n",
       "      <th>Europe</th>\n",
       "      <th>political.knowledge</th>\n",
       "    </tr>\n",
       "  </thead>\n",
       "  <tbody>\n",
       "    <tr>\n",
       "      <th>count</th>\n",
       "      <td>1525.000000</td>\n",
       "      <td>1525.000000</td>\n",
       "      <td>1525.000000</td>\n",
       "      <td>1525.000000</td>\n",
       "      <td>1525.000000</td>\n",
       "      <td>1525.000000</td>\n",
       "      <td>1525.000000</td>\n",
       "    </tr>\n",
       "    <tr>\n",
       "      <th>mean</th>\n",
       "      <td>54.182295</td>\n",
       "      <td>3.245902</td>\n",
       "      <td>3.140328</td>\n",
       "      <td>3.334426</td>\n",
       "      <td>2.746885</td>\n",
       "      <td>6.728525</td>\n",
       "      <td>1.542295</td>\n",
       "    </tr>\n",
       "    <tr>\n",
       "      <th>std</th>\n",
       "      <td>15.711209</td>\n",
       "      <td>0.880969</td>\n",
       "      <td>0.929951</td>\n",
       "      <td>1.174824</td>\n",
       "      <td>1.230703</td>\n",
       "      <td>3.297538</td>\n",
       "      <td>1.083315</td>\n",
       "    </tr>\n",
       "    <tr>\n",
       "      <th>min</th>\n",
       "      <td>24.000000</td>\n",
       "      <td>1.000000</td>\n",
       "      <td>1.000000</td>\n",
       "      <td>1.000000</td>\n",
       "      <td>1.000000</td>\n",
       "      <td>1.000000</td>\n",
       "      <td>0.000000</td>\n",
       "    </tr>\n",
       "    <tr>\n",
       "      <th>25%</th>\n",
       "      <td>41.000000</td>\n",
       "      <td>3.000000</td>\n",
       "      <td>3.000000</td>\n",
       "      <td>2.000000</td>\n",
       "      <td>2.000000</td>\n",
       "      <td>4.000000</td>\n",
       "      <td>0.000000</td>\n",
       "    </tr>\n",
       "    <tr>\n",
       "      <th>50%</th>\n",
       "      <td>53.000000</td>\n",
       "      <td>3.000000</td>\n",
       "      <td>3.000000</td>\n",
       "      <td>4.000000</td>\n",
       "      <td>2.000000</td>\n",
       "      <td>6.000000</td>\n",
       "      <td>2.000000</td>\n",
       "    </tr>\n",
       "    <tr>\n",
       "      <th>75%</th>\n",
       "      <td>67.000000</td>\n",
       "      <td>4.000000</td>\n",
       "      <td>4.000000</td>\n",
       "      <td>4.000000</td>\n",
       "      <td>4.000000</td>\n",
       "      <td>10.000000</td>\n",
       "      <td>2.000000</td>\n",
       "    </tr>\n",
       "    <tr>\n",
       "      <th>max</th>\n",
       "      <td>93.000000</td>\n",
       "      <td>5.000000</td>\n",
       "      <td>5.000000</td>\n",
       "      <td>5.000000</td>\n",
       "      <td>5.000000</td>\n",
       "      <td>11.000000</td>\n",
       "      <td>3.000000</td>\n",
       "    </tr>\n",
       "  </tbody>\n",
       "</table>\n",
       "</div>"
      ],
      "text/plain": [
       "               age  economic.cond.national  economic.cond.household  \\\n",
       "count  1525.000000             1525.000000              1525.000000   \n",
       "mean     54.182295                3.245902                 3.140328   \n",
       "std      15.711209                0.880969                 0.929951   \n",
       "min      24.000000                1.000000                 1.000000   \n",
       "25%      41.000000                3.000000                 3.000000   \n",
       "50%      53.000000                3.000000                 3.000000   \n",
       "75%      67.000000                4.000000                 4.000000   \n",
       "max      93.000000                5.000000                 5.000000   \n",
       "\n",
       "             Blair        Hague       Europe  political.knowledge  \n",
       "count  1525.000000  1525.000000  1525.000000          1525.000000  \n",
       "mean      3.334426     2.746885     6.728525             1.542295  \n",
       "std       1.174824     1.230703     3.297538             1.083315  \n",
       "min       1.000000     1.000000     1.000000             0.000000  \n",
       "25%       2.000000     2.000000     4.000000             0.000000  \n",
       "50%       4.000000     2.000000     6.000000             2.000000  \n",
       "75%       4.000000     4.000000    10.000000             2.000000  \n",
       "max       5.000000     5.000000    11.000000             3.000000  "
      ]
     },
     "execution_count": 472,
     "metadata": {},
     "output_type": "execute_result"
    }
   ],
   "source": [
    "ed.describe()"
   ]
  },
  {
   "cell_type": "code",
   "execution_count": 473,
   "metadata": {},
   "outputs": [
    {
     "name": "stdout",
     "output_type": "stream",
     "text": [
      "Number of duplicate rows = 8\n",
      "(1525, 9)\n"
     ]
    }
   ],
   "source": [
    "dups = ed.duplicated()\n",
    "print('Number of duplicate rows = %d' % (dups.sum()))\n",
    "print(ed.shape)"
   ]
  },
  {
   "cell_type": "code",
   "execution_count": 474,
   "metadata": {},
   "outputs": [
    {
     "data": {
      "text/plain": [
       "(1517, 9)"
      ]
     },
     "execution_count": 474,
     "metadata": {},
     "output_type": "execute_result"
    }
   ],
   "source": [
    "ed.drop_duplicates(inplace=True)\n",
    "ed.shape"
   ]
  },
  {
   "cell_type": "code",
   "execution_count": 475,
   "metadata": {},
   "outputs": [
    {
     "data": {
      "text/plain": [
       "<matplotlib.axes._subplots.AxesSubplot at 0x24e87edaf08>"
      ]
     },
     "execution_count": 475,
     "metadata": {},
     "output_type": "execute_result"
    },
    {
     "data": {
      "image/png": "[encoded data removed]",
      "text/plain": [
       "<Figure size 432x288 with 2 Axes>"
      ]
     },
     "metadata": {
      "needs_background": "light"
     },
     "output_type": "display_data"
    }
   ],
   "source": [
    "sns.heatmap(ed.corr(),annot=True)"
   ]
  },
  {
   "cell_type": "code",
   "execution_count": 476,
   "metadata": {},
   "outputs": [
    {
     "data": {
      "text/plain": [
       "vote                       0\n",
       "age                        0\n",
       "economic.cond.national     0\n",
       "economic.cond.household    0\n",
       "Blair                      0\n",
       "Hague                      0\n",
       "Europe                     0\n",
       "political.knowledge        0\n",
       "gender                     0\n",
       "dtype: int64"
      ]
     },
     "execution_count": 476,
     "metadata": {},
     "output_type": "execute_result"
    }
   ],
   "source": [
    "ed.isnull().sum()"
   ]
  },
  {
   "cell_type": "markdown",
   "metadata": {},
   "source": [
    "# EDA"
   ]
  },
  {
   "cell_type": "code",
   "execution_count": 477,
   "metadata": {},
   "outputs": [
    {
     "data": {
      "text/plain": [
       "['vote', 'gender']"
      ]
     },
     "execution_count": 477,
     "metadata": {},
     "output_type": "execute_result"
    }
   ],
   "source": [
    "xcols=list(ed.select_dtypes('object').columns)\n",
    "xcols"
   ]
  },
  {
   "cell_type": "code",
   "execution_count": 478,
   "metadata": {},
   "outputs": [
    {
     "data": {
      "text/plain": [
       "['age',\n",
       " 'economic.cond.national',\n",
       " 'economic.cond.household',\n",
       " 'Blair',\n",
       " 'Hague',\n",
       " 'Europe',\n",
       " 'political.knowledge']"
      ]
     },
     "execution_count": 478,
     "metadata": {},
     "output_type": "execute_result"
    }
   ],
   "source": [
    "cols=list(ed.select_dtypes(include=['int64','float64']).columns)\n",
    "cols"
   ]
  },
  {
   "cell_type": "markdown",
   "metadata": {},
   "source": [
    "# univariate analysis for Continous varaible"
   ]
  },
  {
   "cell_type": "code",
   "execution_count": 479,
   "metadata": {},
   "outputs": [
    {
     "data": {
      "image/png": "[encoded data removed]",
      "text/plain": [
       "<Figure size 432x288 with 1 Axes>"
      ]
     },
     "metadata": {
      "needs_background": "light"
     },
     "output_type": "display_data"
    },
    {
     "data": {
      "image/png": "[encoded data removed]",
      "text/plain": [
       "<Figure size 432x288 with 1 Axes>"
      ]
     },
     "metadata": {
      "needs_background": "light"
     },
     "output_type": "display_data"
    },
    {
     "data": {
      "image/png": "[encoded data removed]",
      "text/plain": [
       "<Figure size 432x288 with 1 Axes>"
      ]
     },
     "metadata": {
      "needs_background": "light"
     },
     "output_type": "display_data"
    },
    {
     "data": {
      "image/png": "[encoded data removed]",
      "text/plain": [
       "<Figure size 432x288 with 1 Axes>"
      ]
     },
     "metadata": {
      "needs_background": "light"
     },
     "output_type": "display_data"
    },
    {
     "data": {
      "image/png": "[encoded data removed]",
      "text/plain": [
       "<Figure size 432x288 with 1 Axes>"
      ]
     },
     "metadata": {
      "needs_background": "light"
     },
     "output_type": "display_data"
    },
    {
     "data": {
      "image/png": "[encoded data removed]",
      "text/plain": [
       "<Figure size 432x288 with 1 Axes>"
      ]
     },
     "metadata": {
      "needs_background": "light"
     },
     "output_type": "display_data"
    },
    {
     "data": {
      "image/png": "[encoded data removed]",
      "text/plain": [
       "<Figure size 432x288 with 1 Axes>"
      ]
     },
     "metadata": {
      "needs_background": "light"
     },
     "output_type": "display_data"
    }
   ],
   "source": [
    "for i in cols:\n",
    "    fig,axs=plt.subplots(ncols=1,nrows=1)\n",
    "    sns.boxplot(ed[i])"
   ]
  },
  {
   "cell_type": "markdown",
   "metadata": {},
   "source": [
    "# most of the columns are categorical even though of type int64"
   ]
  },
  {
   "cell_type": "code",
   "execution_count": 480,
   "metadata": {},
   "outputs": [
    {
     "data": {
      "text/plain": [
       "['vote',\n",
       " 'gender',\n",
       " 'economic.cond.national',\n",
       " 'economic.cond.household',\n",
       " 'Blair',\n",
       " 'Hague',\n",
       " 'political.knowledge']"
      ]
     },
     "execution_count": 480,
     "metadata": {},
     "output_type": "execute_result"
    }
   ],
   "source": [
    "xcols.extend(['economic.cond.national','economic.cond.household','Blair','Hague','political.knowledge'])\n",
    "xcols"
   ]
  },
  {
   "cell_type": "code",
   "execution_count": 481,
   "metadata": {},
   "outputs": [
    {
     "data": {
      "text/plain": [
       "['age', 'Europe']"
      ]
     },
     "execution_count": 481,
     "metadata": {},
     "output_type": "execute_result"
    }
   ],
   "source": [
    "cols=['age','Europe']\n",
    "cols"
   ]
  },
  {
   "cell_type": "markdown",
   "metadata": {},
   "source": [
    "# univariate analysis of variable of age and Europe, which are continous"
   ]
  },
  {
   "cell_type": "code",
   "execution_count": 482,
   "metadata": {},
   "outputs": [
    {
     "data": {
      "image/png": "[encoded data removed]",
      "text/plain": [
       "<Figure size 432x288 with 2 Axes>"
      ]
     },
     "metadata": {
      "needs_background": "light"
     },
     "output_type": "display_data"
    },
    {
     "data": {
      "image/png": "[encoded data removed]",
      "text/plain": [
       "<Figure size 432x288 with 2 Axes>"
      ]
     },
     "metadata": {
      "needs_background": "light"
     },
     "output_type": "display_data"
    }
   ],
   "source": [
    "for i in cols:\n",
    "    fig,axs=plt.subplots(nrows=1,ncols=2)\n",
    "    sns.distplot(ed[i],ax=axs[0])\n",
    "    sns.boxplot(ed[i],ax=axs[1])\n",
    "    "
   ]
  },
  {
   "cell_type": "markdown",
   "metadata": {},
   "source": [
    "# univariate analysis of categorical variables"
   ]
  },
  {
   "cell_type": "code",
   "execution_count": 483,
   "metadata": {},
   "outputs": [
    {
     "name": "stdout",
     "output_type": "stream",
     "text": [
      "Variable: vote\n",
      "Labour          1057\n",
      "Conservative     460\n",
      "Name: vote, dtype: int64\n"
     ]
    },
    {
     "data": {
      "image/png": "[encoded data removed]",
      "text/plain": [
       "<Figure size 432x288 with 1 Axes>"
      ]
     },
     "metadata": {
      "needs_background": "light"
     },
     "output_type": "display_data"
    },
    {
     "name": "stdout",
     "output_type": "stream",
     "text": [
      "Variable: gender\n",
      "female    808\n",
      "male      709\n",
      "Name: gender, dtype: int64\n"
     ]
    },
    {
     "data": {
      "image/png": "[encoded data removed]",
      "text/plain": [
       "<Figure size 432x288 with 1 Axes>"
      ]
     },
     "metadata": {
      "needs_background": "light"
     },
     "output_type": "display_data"
    },
    {
     "name": "stdout",
     "output_type": "stream",
     "text": [
      "Variable: economic.cond.national\n",
      "3    604\n",
      "4    538\n",
      "2    256\n",
      "5     82\n",
      "1     37\n",
      "Name: economic.cond.national, dtype: int64\n"
     ]
    },
    {
     "data": {
      "image/png": "[encoded data removed]",
      "text/plain": [
       "<Figure size 432x288 with 1 Axes>"
      ]
     },
     "metadata": {
      "needs_background": "light"
     },
     "output_type": "display_data"
    },
    {
     "name": "stdout",
     "output_type": "stream",
     "text": [
      "Variable: economic.cond.household\n",
      "3    645\n",
      "4    435\n",
      "2    280\n",
      "5     92\n",
      "1     65\n",
      "Name: economic.cond.household, dtype: int64\n"
     ]
    },
    {
     "data": {
      "image/png": "[encoded data removed]",
      "text/plain": [
       "<Figure size 432x288 with 1 Axes>"
      ]
     },
     "metadata": {
      "needs_background": "light"
     },
     "output_type": "display_data"
    },
    {
     "name": "stdout",
     "output_type": "stream",
     "text": [
      "Variable: Blair\n",
      "4    833\n",
      "2    434\n",
      "5    152\n",
      "1     97\n",
      "3      1\n",
      "Name: Blair, dtype: int64\n"
     ]
    },
    {
     "data": {
      "image/png": "[encoded data removed]",
      "text/plain": [
       "<Figure size 432x288 with 1 Axes>"
      ]
     },
     "metadata": {
      "needs_background": "light"
     },
     "output_type": "display_data"
    },
    {
     "name": "stdout",
     "output_type": "stream",
     "text": [
      "Variable: Hague\n",
      "2    617\n",
      "4    557\n",
      "1    233\n",
      "5     73\n",
      "3     37\n",
      "Name: Hague, dtype: int64\n"
     ]
    },
    {
     "data": {
      "image/png": "[encoded data removed]",
      "text/plain": [
       "<Figure size 432x288 with 1 Axes>"
      ]
     },
     "metadata": {
      "needs_background": "light"
     },
     "output_type": "display_data"
    },
    {
     "name": "stdout",
     "output_type": "stream",
     "text": [
      "Variable: political.knowledge\n",
      "2    776\n",
      "0    454\n",
      "3    249\n",
      "1     38\n",
      "Name: political.knowledge, dtype: int64\n"
     ]
    },
    {
     "data": {
      "image/png": "[encoded data removed]",
      "text/plain": [
       "<Figure size 432x288 with 1 Axes>"
      ]
     },
     "metadata": {
      "needs_background": "light"
     },
     "output_type": "display_data"
    }
   ],
   "source": [
    "for i in xcols:\n",
    "    print(\"Variable:\",i)\n",
    "    print(ed[i].value_counts())\n",
    "    fig,axs=plt.subplots(nrows=1,ncols=1)\n",
    "    sns.countplot(ed[i])\n",
    "    plt.show()"
   ]
  },
  {
   "cell_type": "markdown",
   "metadata": {},
   "source": [
    "# bivariate analysis of target variable and continous"
   ]
  },
  {
   "cell_type": "code",
   "execution_count": 484,
   "metadata": {},
   "outputs": [
    {
     "data": {
      "image/png": "[encoded data removed]",
      "text/plain": [
       "<Figure size 432x288 with 1 Axes>"
      ]
     },
     "metadata": {
      "needs_background": "light"
     },
     "output_type": "display_data"
    },
    {
     "data": {
      "image/png": "[encoded data removed]",
      "text/plain": [
       "<Figure size 432x288 with 1 Axes>"
      ]
     },
     "metadata": {
      "needs_background": "light"
     },
     "output_type": "display_data"
    }
   ],
   "source": [
    "for i in cols:\n",
    "    fig,axs=plt.subplots(nrows=1, ncols=1)\n",
    "    sns.boxplot(ed['vote'],ed[i])"
   ]
  },
  {
   "cell_type": "markdown",
   "metadata": {},
   "source": [
    "# bi-variate analysis of target variable and categorical varaibles"
   ]
  },
  {
   "cell_type": "code",
   "execution_count": 485,
   "metadata": {},
   "outputs": [
    {
     "name": "stdout",
     "output_type": "stream",
     "text": [
      "vote          Conservative  Labour\n",
      "vote                              \n",
      "Conservative           1.0     0.0\n",
      "Labour                 0.0     1.0\n",
      "      \n",
      "gender        female  male\n",
      "vote                      \n",
      "Conservative    0.56  0.44\n",
      "Labour          0.52  0.48\n",
      "      \n",
      "economic.cond.national     1     2     3     4     5\n",
      "vote                                                \n",
      "Conservative            0.05  0.30  0.43  0.20  0.02\n",
      "Labour                  0.02  0.11  0.38  0.42  0.07\n",
      "      \n",
      "economic.cond.household     1     2     3     4     5\n",
      "vote                                                 \n",
      "Conservative             0.06  0.27  0.43  0.19  0.05\n",
      "Labour                   0.04  0.15  0.42  0.33  0.07\n",
      "      \n",
      "Blair            1     2    3     4     5\n",
      "vote                                     \n",
      "Conservative  0.13  0.52  0.0  0.34  0.01\n",
      "Labour        0.04  0.18  0.0  0.64  0.14\n",
      "      \n",
      "Hague            1     2     3     4     5\n",
      "vote                                      \n",
      "Conservative  0.02  0.21  0.02  0.62  0.13\n",
      "Labour        0.21  0.49  0.03  0.26  0.01\n",
      "      \n",
      "political.knowledge     0     1     2     3\n",
      "vote                                       \n",
      "Conservative         0.20  0.02  0.62  0.16\n",
      "Labour               0.34  0.03  0.47  0.17\n",
      "      \n"
     ]
    }
   ],
   "source": [
    "for i in xcols:\n",
    "    print(pd.crosstab(ed['vote'],ed[i],normalize='index').round(2))\n",
    "    print(\"      \")"
   ]
  },
  {
   "cell_type": "code",
   "execution_count": 486,
   "metadata": {},
   "outputs": [
    {
     "name": "stdout",
     "output_type": "stream",
     "text": [
      "vote          Conservative  Labour\n",
      "vote                              \n",
      "Conservative           1.0     0.0\n",
      "Labour                 0.0     1.0\n",
      "      \n",
      "gender        female  male\n",
      "vote                      \n",
      "Conservative    0.32  0.29\n",
      "Labour          0.68  0.71\n",
      "      \n",
      "economic.cond.national     1     2     3     4     5\n",
      "vote                                                \n",
      "Conservative            0.57  0.55  0.33  0.17  0.11\n",
      "Labour                  0.43  0.45  0.67  0.83  0.89\n",
      "      \n",
      "economic.cond.household     1     2     3    4     5\n",
      "vote                                                \n",
      "Conservative             0.43  0.45  0.31  0.2  0.25\n",
      "Labour                   0.57  0.55  0.69  0.8  0.75\n",
      "      \n",
      "Blair            1     2    3     4     5\n",
      "vote                                     \n",
      "Conservative  0.61  0.55  1.0  0.19  0.02\n",
      "Labour        0.39  0.45  0.0  0.81  0.98\n",
      "      \n",
      "Hague            1     2     3     4     5\n",
      "vote                                      \n",
      "Conservative  0.05  0.15  0.24  0.51  0.81\n",
      "Labour        0.95  0.85  0.76  0.49  0.19\n",
      "      \n",
      "political.knowledge     0     1     2     3\n",
      "vote                                       \n",
      "Conservative         0.21  0.29  0.36  0.29\n",
      "Labour               0.79  0.71  0.64  0.71\n",
      "      \n"
     ]
    }
   ],
   "source": [
    "for i in xcols:\n",
    "    print(pd.crosstab(ed['vote'],ed[i],normalize='columns').round(2))\n",
    "    print(\"      \")"
   ]
  },
  {
   "cell_type": "markdown",
   "metadata": {},
   "source": [
    "# Steps for modelling"
   ]
  },
  {
   "cell_type": "markdown",
   "metadata": {},
   "source": [
    "# Since Conservative is in minority, it is converted to 1"
   ]
  },
  {
   "cell_type": "code",
   "execution_count": 416,
   "metadata": {},
   "outputs": [],
   "source": [
    "target={'Conservative':1,'Labour':0}"
   ]
  },
  {
   "cell_type": "code",
   "execution_count": 417,
   "metadata": {},
   "outputs": [],
   "source": [
    "ed['vote']=ed['vote'].map(target)"
   ]
  },
  {
   "cell_type": "code",
   "execution_count": 419,
   "metadata": {},
   "outputs": [
    {
     "data": {
      "text/plain": [
       "0    0.69677\n",
       "1    0.30323\n",
       "Name: vote, dtype: float64"
      ]
     },
     "execution_count": 419,
     "metadata": {},
     "output_type": "execute_result"
    }
   ],
   "source": [
    "ed['vote'].value_counts(normalize=True)"
   ]
  },
  {
   "cell_type": "code",
   "execution_count": 301,
   "metadata": {},
   "outputs": [
    {
     "data": {
      "text/html": [
       "<div>\n",
       "<style scoped>\n",
       "    .dataframe tbody tr th:only-of-type {\n",
       "        vertical-align: middle;\n",
       "    }\n",
       "\n",
       "    .dataframe tbody tr th {\n",
       "        vertical-align: top;\n",
       "    }\n",
       "\n",
       "    .dataframe thead th {\n",
       "        text-align: right;\n",
       "    }\n",
       "</style>\n",
       "<table border=\"1\" class=\"dataframe\">\n",
       "  <thead>\n",
       "    <tr style=\"text-align: right;\">\n",
       "      <th></th>\n",
       "      <th>vote</th>\n",
       "      <th>age</th>\n",
       "      <th>economic.cond.national</th>\n",
       "      <th>economic.cond.household</th>\n",
       "      <th>Blair</th>\n",
       "      <th>Hague</th>\n",
       "      <th>Europe</th>\n",
       "      <th>political.knowledge</th>\n",
       "      <th>gender_male</th>\n",
       "    </tr>\n",
       "  </thead>\n",
       "  <tbody>\n",
       "    <tr>\n",
       "      <th>1</th>\n",
       "      <td>0</td>\n",
       "      <td>43</td>\n",
       "      <td>3</td>\n",
       "      <td>3</td>\n",
       "      <td>4</td>\n",
       "      <td>1</td>\n",
       "      <td>2</td>\n",
       "      <td>2</td>\n",
       "      <td>0</td>\n",
       "    </tr>\n",
       "    <tr>\n",
       "      <th>2</th>\n",
       "      <td>0</td>\n",
       "      <td>36</td>\n",
       "      <td>4</td>\n",
       "      <td>4</td>\n",
       "      <td>4</td>\n",
       "      <td>4</td>\n",
       "      <td>5</td>\n",
       "      <td>2</td>\n",
       "      <td>1</td>\n",
       "    </tr>\n",
       "    <tr>\n",
       "      <th>3</th>\n",
       "      <td>0</td>\n",
       "      <td>35</td>\n",
       "      <td>4</td>\n",
       "      <td>4</td>\n",
       "      <td>5</td>\n",
       "      <td>2</td>\n",
       "      <td>3</td>\n",
       "      <td>2</td>\n",
       "      <td>1</td>\n",
       "    </tr>\n",
       "    <tr>\n",
       "      <th>4</th>\n",
       "      <td>0</td>\n",
       "      <td>24</td>\n",
       "      <td>4</td>\n",
       "      <td>2</td>\n",
       "      <td>2</td>\n",
       "      <td>1</td>\n",
       "      <td>4</td>\n",
       "      <td>0</td>\n",
       "      <td>0</td>\n",
       "    </tr>\n",
       "    <tr>\n",
       "      <th>5</th>\n",
       "      <td>0</td>\n",
       "      <td>41</td>\n",
       "      <td>2</td>\n",
       "      <td>2</td>\n",
       "      <td>1</td>\n",
       "      <td>1</td>\n",
       "      <td>6</td>\n",
       "      <td>2</td>\n",
       "      <td>1</td>\n",
       "    </tr>\n",
       "    <tr>\n",
       "      <th>...</th>\n",
       "      <td>...</td>\n",
       "      <td>...</td>\n",
       "      <td>...</td>\n",
       "      <td>...</td>\n",
       "      <td>...</td>\n",
       "      <td>...</td>\n",
       "      <td>...</td>\n",
       "      <td>...</td>\n",
       "      <td>...</td>\n",
       "    </tr>\n",
       "    <tr>\n",
       "      <th>1521</th>\n",
       "      <td>1</td>\n",
       "      <td>67</td>\n",
       "      <td>5</td>\n",
       "      <td>3</td>\n",
       "      <td>2</td>\n",
       "      <td>4</td>\n",
       "      <td>11</td>\n",
       "      <td>3</td>\n",
       "      <td>1</td>\n",
       "    </tr>\n",
       "    <tr>\n",
       "      <th>1522</th>\n",
       "      <td>1</td>\n",
       "      <td>73</td>\n",
       "      <td>2</td>\n",
       "      <td>2</td>\n",
       "      <td>4</td>\n",
       "      <td>4</td>\n",
       "      <td>8</td>\n",
       "      <td>2</td>\n",
       "      <td>1</td>\n",
       "    </tr>\n",
       "    <tr>\n",
       "      <th>1523</th>\n",
       "      <td>0</td>\n",
       "      <td>37</td>\n",
       "      <td>3</td>\n",
       "      <td>3</td>\n",
       "      <td>5</td>\n",
       "      <td>4</td>\n",
       "      <td>2</td>\n",
       "      <td>2</td>\n",
       "      <td>1</td>\n",
       "    </tr>\n",
       "    <tr>\n",
       "      <th>1524</th>\n",
       "      <td>1</td>\n",
       "      <td>61</td>\n",
       "      <td>3</td>\n",
       "      <td>3</td>\n",
       "      <td>1</td>\n",
       "      <td>4</td>\n",
       "      <td>11</td>\n",
       "      <td>2</td>\n",
       "      <td>1</td>\n",
       "    </tr>\n",
       "    <tr>\n",
       "      <th>1525</th>\n",
       "      <td>1</td>\n",
       "      <td>74</td>\n",
       "      <td>2</td>\n",
       "      <td>3</td>\n",
       "      <td>2</td>\n",
       "      <td>4</td>\n",
       "      <td>11</td>\n",
       "      <td>0</td>\n",
       "      <td>0</td>\n",
       "    </tr>\n",
       "  </tbody>\n",
       "</table>\n",
       "<p>1517 rows × 9 columns</p>\n",
       "</div>"
      ],
      "text/plain": [
       "      vote  age  economic.cond.national  economic.cond.household  Blair  \\\n",
       "1        0   43                       3                        3      4   \n",
       "2        0   36                       4                        4      4   \n",
       "3        0   35                       4                        4      5   \n",
       "4        0   24                       4                        2      2   \n",
       "5        0   41                       2                        2      1   \n",
       "...    ...  ...                     ...                      ...    ...   \n",
       "1521     1   67                       5                        3      2   \n",
       "1522     1   73                       2                        2      4   \n",
       "1523     0   37                       3                        3      5   \n",
       "1524     1   61                       3                        3      1   \n",
       "1525     1   74                       2                        3      2   \n",
       "\n",
       "      Hague  Europe  political.knowledge  gender_male  \n",
       "1         1       2                    2            0  \n",
       "2         4       5                    2            1  \n",
       "3         2       3                    2            1  \n",
       "4         1       4                    0            0  \n",
       "5         1       6                    2            1  \n",
       "...     ...     ...                  ...          ...  \n",
       "1521      4      11                    3            1  \n",
       "1522      4       8                    2            1  \n",
       "1523      4       2                    2            1  \n",
       "1524      4      11                    2            1  \n",
       "1525      4      11                    0            0  \n",
       "\n",
       "[1517 rows x 9 columns]"
      ]
     },
     "execution_count": 301,
     "metadata": {},
     "output_type": "execute_result"
    }
   ],
   "source": [
    "ed_dummy=pd.get_dummies(ed,drop_first=True)\n",
    "ed_dummy"
   ]
  },
  {
   "cell_type": "code",
   "execution_count": 302,
   "metadata": {},
   "outputs": [],
   "source": [
    "train,test=train_test_split(ed_dummy,test_size=0.3,random_state=1,stratify=ed_dummy['vote'])"
   ]
  },
  {
   "cell_type": "code",
   "execution_count": 303,
   "metadata": {},
   "outputs": [],
   "source": [
    "X=train.drop('vote',axis=1)\n",
    "Y=train['vote']"
   ]
  },
  {
   "cell_type": "code",
   "execution_count": 304,
   "metadata": {},
   "outputs": [],
   "source": [
    "X_test=test.drop('vote',axis=1)\n",
    "Y_test=test['vote']"
   ]
  },
  {
   "cell_type": "markdown",
   "metadata": {},
   "source": [
    "# Scaling done since some models need it like KNN"
   ]
  },
  {
   "cell_type": "code",
   "execution_count": 305,
   "metadata": {},
   "outputs": [],
   "source": [
    "ss=StandardScaler()"
   ]
  },
  {
   "cell_type": "code",
   "execution_count": 306,
   "metadata": {},
   "outputs": [],
   "source": [
    "X.loc[:,:]=ss.fit_transform(X.loc[:,:])"
   ]
  },
  {
   "cell_type": "code",
   "execution_count": 307,
   "metadata": {},
   "outputs": [],
   "source": [
    "X_test.loc[:,:]=ss.transform(X_test.loc[:,:])"
   ]
  },
  {
   "cell_type": "markdown",
   "metadata": {},
   "source": [
    "# Logistic Regression"
   ]
  },
  {
   "cell_type": "code",
   "execution_count": 308,
   "metadata": {},
   "outputs": [],
   "source": [
    "LR=LogisticRegression(random_state=1)"
   ]
  },
  {
   "cell_type": "code",
   "execution_count": 309,
   "metadata": {},
   "outputs": [
    {
     "data": {
      "text/plain": [
       "LogisticRegression(random_state=1)"
      ]
     },
     "execution_count": 309,
     "metadata": {},
     "output_type": "execute_result"
    }
   ],
   "source": [
    "LR.fit(X,Y)"
   ]
  },
  {
   "cell_type": "code",
   "execution_count": 310,
   "metadata": {},
   "outputs": [],
   "source": [
    "train_pred_LR=LR.predict(X)\n",
    "test_pred_LR=LR.predict(X_test)"
   ]
  },
  {
   "cell_type": "code",
   "execution_count": 311,
   "metadata": {},
   "outputs": [],
   "source": [
    "train_prob_LR=LR.predict_proba(X)\n",
    "test_prob_LR=LR.predict_proba(X_test)"
   ]
  },
  {
   "cell_type": "markdown",
   "metadata": {},
   "source": [
    "# train"
   ]
  },
  {
   "cell_type": "code",
   "execution_count": 312,
   "metadata": {},
   "outputs": [
    {
     "name": "stdout",
     "output_type": "stream",
     "text": [
      "[[679  60]\n",
      " [104 218]] \n",
      "\n",
      "              precision    recall  f1-score   support\n",
      "\n",
      "           0       0.87      0.92      0.89       739\n",
      "           1       0.78      0.68      0.73       322\n",
      "\n",
      "    accuracy                           0.85      1061\n",
      "   macro avg       0.83      0.80      0.81      1061\n",
      "weighted avg       0.84      0.85      0.84      1061\n",
      "\n"
     ]
    }
   ],
   "source": [
    "print(confusion_matrix(Y,train_pred_LR),'\\n')\n",
    "print(classification_report(Y,train_pred_LR))"
   ]
  },
  {
   "cell_type": "code",
   "execution_count": 313,
   "metadata": {},
   "outputs": [
    {
     "name": "stdout",
     "output_type": "stream",
     "text": [
      "auc 0.8945255045007942\n"
     ]
    },
    {
     "data": {
      "image/png": "[encoded data removed]",
      "text/plain": [
       "<Figure size 432x288 with 1 Axes>"
      ]
     },
     "metadata": {
      "needs_background": "light"
     },
     "output_type": "display_data"
    }
   ],
   "source": [
    "print('auc',roc_auc_score(Y,train_prob_LR[:,1]))\n",
    "train_fpr_LR,train_tpr_LR,thresholds=roc_curve(Y,train_prob_LR[:,1])\n",
    "plt.plot([0,1],[0,1],linestyle='--')\n",
    "plt.plot(train_fpr_LR,train_tpr_LR,marker='.')\n",
    "plt.show()"
   ]
  },
  {
   "cell_type": "markdown",
   "metadata": {},
   "source": [
    "# test"
   ]
  },
  {
   "cell_type": "code",
   "execution_count": 314,
   "metadata": {},
   "outputs": [
    {
     "name": "stdout",
     "output_type": "stream",
     "text": [
      "[[276  42]\n",
      " [ 45  93]]\n",
      "              precision    recall  f1-score   support\n",
      "\n",
      "           0       0.86      0.87      0.86       318\n",
      "           1       0.69      0.67      0.68       138\n",
      "\n",
      "    accuracy                           0.81       456\n",
      "   macro avg       0.77      0.77      0.77       456\n",
      "weighted avg       0.81      0.81      0.81       456\n",
      "\n"
     ]
    }
   ],
   "source": [
    "print (confusion_matrix(Y_test,test_pred_LR))\n",
    "print(classification_report(Y_test,test_pred_LR))"
   ]
  },
  {
   "cell_type": "code",
   "execution_count": 315,
   "metadata": {},
   "outputs": [
    {
     "name": "stdout",
     "output_type": "stream",
     "text": [
      "auc 0.8734846413271352\n"
     ]
    },
    {
     "data": {
      "image/png": "[encoded data removed]",
      "text/plain": [
       "<Figure size 432x288 with 1 Axes>"
      ]
     },
     "metadata": {
      "needs_background": "light"
     },
     "output_type": "display_data"
    }
   ],
   "source": [
    "print ('auc',roc_auc_score(Y_test,test_prob_LR[:,1]))\n",
    "test_fpr_LR,test_tpr_LR,thresholds=roc_curve(Y_test,test_prob_LR[:,1])\n",
    "plt.plot([0,1],[0,1],linestyle='--')\n",
    "plt.plot(test_fpr_LR,test_tpr_LR,marker='.')\n",
    "plt.show()"
   ]
  },
  {
   "cell_type": "markdown",
   "metadata": {},
   "source": [
    "# Linear Discriminant Analysis"
   ]
  },
  {
   "cell_type": "code",
   "execution_count": 316,
   "metadata": {},
   "outputs": [],
   "source": [
    "LDA=LinearDiscriminantAnalysis()"
   ]
  },
  {
   "cell_type": "code",
   "execution_count": 317,
   "metadata": {},
   "outputs": [
    {
     "data": {
      "text/plain": [
       "LinearDiscriminantAnalysis()"
      ]
     },
     "execution_count": 317,
     "metadata": {},
     "output_type": "execute_result"
    }
   ],
   "source": [
    "LDA.fit(X,Y)"
   ]
  },
  {
   "cell_type": "code",
   "execution_count": 318,
   "metadata": {},
   "outputs": [],
   "source": [
    "train_pred_LDA=LDA.predict(X)\n",
    "test_pred_LDA= LDA.predict(X_test)"
   ]
  },
  {
   "cell_type": "code",
   "execution_count": 319,
   "metadata": {},
   "outputs": [],
   "source": [
    "train_prob_LDA= LDA.predict_proba(X)\n",
    "test_prob_LDA=LDA.predict_proba(X_test)"
   ]
  },
  {
   "cell_type": "markdown",
   "metadata": {},
   "source": [
    "# train"
   ]
  },
  {
   "cell_type": "code",
   "execution_count": 320,
   "metadata": {},
   "outputs": [
    {
     "name": "stdout",
     "output_type": "stream",
     "text": [
      "[[671  68]\n",
      " [100 222]]\n",
      "              precision    recall  f1-score   support\n",
      "\n",
      "           0       0.87      0.91      0.89       739\n",
      "           1       0.77      0.69      0.73       322\n",
      "\n",
      "    accuracy                           0.84      1061\n",
      "   macro avg       0.82      0.80      0.81      1061\n",
      "weighted avg       0.84      0.84      0.84      1061\n",
      "\n"
     ]
    }
   ],
   "source": [
    "print(confusion_matrix(Y,train_pred_LDA))\n",
    "print(classification_report(Y,train_pred_LDA))"
   ]
  },
  {
   "cell_type": "code",
   "execution_count": 321,
   "metadata": {},
   "outputs": [
    {
     "name": "stdout",
     "output_type": "stream",
     "text": [
      "auc 0.8944204439438893\n"
     ]
    },
    {
     "data": {
      "image/png": "[encoded data removed]",
      "text/plain": [
       "<Figure size 432x288 with 1 Axes>"
      ]
     },
     "metadata": {
      "needs_background": "light"
     },
     "output_type": "display_data"
    }
   ],
   "source": [
    "print('auc',roc_auc_score(Y,train_prob_LDA[:,1]))\n",
    "train_fpr_LDA,train_tpr_LDA,thresholds=roc_curve(Y,train_prob_LDA[:,1])\n",
    "plt.plot([0,1],[0,1],linestyle='--')\n",
    "plt.plot(train_fpr_LDA,train_tpr_LDA,marker='.')\n",
    "plt.show()"
   ]
  },
  {
   "cell_type": "markdown",
   "metadata": {},
   "source": [
    "# test"
   ]
  },
  {
   "cell_type": "code",
   "execution_count": 322,
   "metadata": {},
   "outputs": [
    {
     "name": "stdout",
     "output_type": "stream",
     "text": [
      "[[273  45]\n",
      " [ 43  95]]\n",
      "              precision    recall  f1-score   support\n",
      "\n",
      "           0       0.86      0.86      0.86       318\n",
      "           1       0.68      0.69      0.68       138\n",
      "\n",
      "    accuracy                           0.81       456\n",
      "   macro avg       0.77      0.77      0.77       456\n",
      "weighted avg       0.81      0.81      0.81       456\n",
      "\n"
     ]
    }
   ],
   "source": [
    "print(confusion_matrix(Y_test,test_pred_LDA))\n",
    "print(classification_report(Y_test,test_pred_LDA))"
   ]
  },
  {
   "cell_type": "code",
   "execution_count": 323,
   "metadata": {},
   "outputs": [
    {
     "name": "stdout",
     "output_type": "stream",
     "text": [
      "auc 0.8726642967824264\n"
     ]
    },
    {
     "data": {
      "image/png": "[encoded data removed]",
      "text/plain": [
       "<Figure size 432x288 with 1 Axes>"
      ]
     },
     "metadata": {
      "needs_background": "light"
     },
     "output_type": "display_data"
    }
   ],
   "source": [
    "print('auc',roc_auc_score(Y_test,test_prob_LDA[:,1]))\n",
    "test_fpr_LDA,test_tpr_LDA,thresholds=roc_curve(Y_test,test_prob_LDA[:,1])\n",
    "plt.plot([0,1],[0,1],linestyle='--')\n",
    "plt.plot(test_fpr_LDA,test_tpr_LDA,marker='.')\n",
    "plt.show()"
   ]
  },
  {
   "cell_type": "markdown",
   "metadata": {},
   "source": [
    "# KNN"
   ]
  },
  {
   "cell_type": "code",
   "execution_count": 324,
   "metadata": {},
   "outputs": [],
   "source": [
    "KNN=KNeighborsClassifier()"
   ]
  },
  {
   "cell_type": "code",
   "execution_count": 325,
   "metadata": {},
   "outputs": [
    {
     "data": {
      "text/plain": [
       "KNeighborsClassifier()"
      ]
     },
     "execution_count": 325,
     "metadata": {},
     "output_type": "execute_result"
    }
   ],
   "source": [
    "KNN.fit(X,Y)"
   ]
  },
  {
   "cell_type": "code",
   "execution_count": 326,
   "metadata": {},
   "outputs": [],
   "source": [
    "train_pred_KNN=KNN.predict(X)\n",
    "test_pred_KNN=KNN.predict(X_test)"
   ]
  },
  {
   "cell_type": "code",
   "execution_count": 327,
   "metadata": {},
   "outputs": [],
   "source": [
    "train_prob_KNN=KNN.predict_proba(X)\n",
    "test_prob_KNN=KNN.predict_proba(X_test)"
   ]
  },
  {
   "cell_type": "markdown",
   "metadata": {},
   "source": [
    "# train"
   ]
  },
  {
   "cell_type": "code",
   "execution_count": 328,
   "metadata": {},
   "outputs": [
    {
     "name": "stdout",
     "output_type": "stream",
     "text": [
      "[[674  65]\n",
      " [ 87 235]]\n",
      "              precision    recall  f1-score   support\n",
      "\n",
      "           0       0.89      0.91      0.90       739\n",
      "           1       0.78      0.73      0.76       322\n",
      "\n",
      "    accuracy                           0.86      1061\n",
      "   macro avg       0.83      0.82      0.83      1061\n",
      "weighted avg       0.85      0.86      0.86      1061\n",
      "\n"
     ]
    }
   ],
   "source": [
    "print(confusion_matrix(Y,train_pred_KNN))\n",
    "print(classification_report(Y,train_pred_KNN))"
   ]
  },
  {
   "cell_type": "code",
   "execution_count": 329,
   "metadata": {},
   "outputs": [
    {
     "name": "stdout",
     "output_type": "stream",
     "text": [
      "auc 0.9286029467385\n"
     ]
    },
    {
     "data": {
      "image/png": "[encoded data removed]",
      "text/plain": [
       "<Figure size 432x288 with 1 Axes>"
      ]
     },
     "metadata": {
      "needs_background": "light"
     },
     "output_type": "display_data"
    }
   ],
   "source": [
    "print('auc',roc_auc_score(Y,train_prob_KNN[:,1]))\n",
    "train_fpr_KNN, train_tpr_KNN, thresholds=roc_curve(Y,train_prob_KNN[:,1])\n",
    "plt.plot([0,1],[0,1],linestyle='--')\n",
    "plt.plot(train_fpr_KNN,train_tpr_KNN,marker='.')\n",
    "plt.show()"
   ]
  },
  {
   "cell_type": "markdown",
   "metadata": {},
   "source": [
    "# test"
   ]
  },
  {
   "cell_type": "code",
   "execution_count": 330,
   "metadata": {},
   "outputs": [
    {
     "name": "stdout",
     "output_type": "stream",
     "text": [
      "[[275  43]\n",
      " [ 43  95]]\n",
      "              precision    recall  f1-score   support\n",
      "\n",
      "           0       0.86      0.86      0.86       318\n",
      "           1       0.69      0.69      0.69       138\n",
      "\n",
      "    accuracy                           0.81       456\n",
      "   macro avg       0.78      0.78      0.78       456\n",
      "weighted avg       0.81      0.81      0.81       456\n",
      "\n"
     ]
    }
   ],
   "source": [
    "print(confusion_matrix(Y_test,test_pred_KNN))\n",
    "print(classification_report(Y_test,test_pred_KNN))"
   ]
  },
  {
   "cell_type": "code",
   "execution_count": 331,
   "metadata": {},
   "outputs": [
    {
     "name": "stdout",
     "output_type": "stream",
     "text": [
      "auc 0.8462423662382644\n"
     ]
    },
    {
     "data": {
      "image/png": "[encoded data removed]",
      "text/plain": [
       "<Figure size 432x288 with 1 Axes>"
      ]
     },
     "metadata": {
      "needs_background": "light"
     },
     "output_type": "display_data"
    }
   ],
   "source": [
    "print('auc',roc_auc_score(Y_test,test_prob_KNN[:,1]))\n",
    "test_fpr_KNN, test_tpr_KNN, thresholds=roc_curve(Y_test,test_prob_KNN[:,1])\n",
    "plt.plot([0,1],[0,1],linestyle='--')\n",
    "plt.plot(test_fpr_KNN,test_tpr_KNN,marker='.')\n",
    "plt.show()"
   ]
  },
  {
   "cell_type": "markdown",
   "metadata": {},
   "source": [
    "# Naiye Bayes"
   ]
  },
  {
   "cell_type": "code",
   "execution_count": 332,
   "metadata": {},
   "outputs": [],
   "source": [
    "NB=GaussianNB()"
   ]
  },
  {
   "cell_type": "code",
   "execution_count": 333,
   "metadata": {},
   "outputs": [
    {
     "data": {
      "text/plain": [
       "GaussianNB()"
      ]
     },
     "execution_count": 333,
     "metadata": {},
     "output_type": "execute_result"
    }
   ],
   "source": [
    "NB.fit(X,Y)"
   ]
  },
  {
   "cell_type": "code",
   "execution_count": 334,
   "metadata": {},
   "outputs": [],
   "source": [
    "train_pred_NB=NB.predict(X)\n",
    "test_pred_NB=NB.predict(X_test)"
   ]
  },
  {
   "cell_type": "code",
   "execution_count": 335,
   "metadata": {},
   "outputs": [],
   "source": [
    "train_prob_NB=NB.predict_proba(X)\n",
    "test_prob_NB=NB.predict_proba(X_test)"
   ]
  },
  {
   "cell_type": "markdown",
   "metadata": {},
   "source": [
    "# train"
   ]
  },
  {
   "cell_type": "code",
   "execution_count": 336,
   "metadata": {},
   "outputs": [
    {
     "name": "stdout",
     "output_type": "stream",
     "text": [
      "[[658  81]\n",
      " [ 94 228]]\n",
      "              precision    recall  f1-score   support\n",
      "\n",
      "           0       0.88      0.89      0.88       739\n",
      "           1       0.74      0.71      0.72       322\n",
      "\n",
      "    accuracy                           0.84      1061\n",
      "   macro avg       0.81      0.80      0.80      1061\n",
      "weighted avg       0.83      0.84      0.83      1061\n",
      "\n"
     ]
    }
   ],
   "source": [
    "print(confusion_matrix(Y,train_pred_NB))\n",
    "print(classification_report(Y,train_pred_NB))"
   ]
  },
  {
   "cell_type": "code",
   "execution_count": 337,
   "metadata": {},
   "outputs": [
    {
     "name": "stdout",
     "output_type": "stream",
     "text": [
      "auc 0.8899070424192506\n"
     ]
    },
    {
     "data": {
      "image/png": "[encoded data removed]",
      "text/plain": [
       "<Figure size 432x288 with 1 Axes>"
      ]
     },
     "metadata": {
      "needs_background": "light"
     },
     "output_type": "display_data"
    }
   ],
   "source": [
    "print('auc',roc_auc_score(Y,train_prob_NB[:,1]))\n",
    "train_fpr_NB,train_tpr_NB,thresholds=roc_curve(Y,train_prob_NB[:,1])\n",
    "plt.plot([0,1],[0,1],linestyle='--')\n",
    "plt.plot(train_fpr_NB,train_tpr_NB,marker='.')\n",
    "plt.show()"
   ]
  },
  {
   "cell_type": "markdown",
   "metadata": {},
   "source": [
    "# test"
   ]
  },
  {
   "cell_type": "code",
   "execution_count": 338,
   "metadata": {},
   "outputs": [
    {
     "name": "stdout",
     "output_type": "stream",
     "text": [
      "[[272  46]\n",
      " [ 36 102]]\n",
      "              precision    recall  f1-score   support\n",
      "\n",
      "           0       0.88      0.86      0.87       318\n",
      "           1       0.69      0.74      0.71       138\n",
      "\n",
      "    accuracy                           0.82       456\n",
      "   macro avg       0.79      0.80      0.79       456\n",
      "weighted avg       0.82      0.82      0.82       456\n",
      "\n"
     ]
    }
   ],
   "source": [
    "print(confusion_matrix(Y_test,test_pred_NB))\n",
    "print(classification_report(Y_test,test_pred_NB))"
   ]
  },
  {
   "cell_type": "code",
   "execution_count": 339,
   "metadata": {},
   "outputs": [
    {
     "name": "stdout",
     "output_type": "stream",
     "text": [
      "auc 0.8772901285206454\n"
     ]
    },
    {
     "data": {
      "image/png": "[encoded data removed]",
      "text/plain": [
       "<Figure size 432x288 with 1 Axes>"
      ]
     },
     "metadata": {
      "needs_background": "light"
     },
     "output_type": "display_data"
    }
   ],
   "source": [
    "print('auc',roc_auc_score(Y_test,test_prob_NB[:,1]))\n",
    "test_fpr_NB,test_tpr_NB,thresholds=roc_curve(Y_test,test_prob_NB[:,1])\n",
    "plt.plot([0,1],[0,1],linestyle='--')\n",
    "plt.plot(test_fpr_NB,test_tpr_NB,marker='.')\n",
    "plt.show()"
   ]
  },
  {
   "cell_type": "markdown",
   "metadata": {},
   "source": [
    "# Bagging Classifier"
   ]
  },
  {
   "cell_type": "code",
   "execution_count": 340,
   "metadata": {},
   "outputs": [],
   "source": [
    "be=RandomForestClassifier(random_state=1)"
   ]
  },
  {
   "cell_type": "code",
   "execution_count": 423,
   "metadata": {},
   "outputs": [],
   "source": [
    "BG=BaggingClassifier(base_estimator=be,random_state=1)"
   ]
  },
  {
   "cell_type": "code",
   "execution_count": 342,
   "metadata": {},
   "outputs": [
    {
     "data": {
      "text/plain": [
       "BaggingClassifier(base_estimator=RandomForestClassifier(random_state=1),\n",
       "                  random_state=1)"
      ]
     },
     "execution_count": 342,
     "metadata": {},
     "output_type": "execute_result"
    }
   ],
   "source": [
    "BG.fit(X,Y)"
   ]
  },
  {
   "cell_type": "code",
   "execution_count": 442,
   "metadata": {},
   "outputs": [
    {
     "data": {
      "text/plain": [
       "{'base_estimator__bootstrap': True,\n",
       " 'base_estimator__ccp_alpha': 0.0,\n",
       " 'base_estimator__class_weight': None,\n",
       " 'base_estimator__criterion': 'gini',\n",
       " 'base_estimator__max_depth': None,\n",
       " 'base_estimator__max_features': 'auto',\n",
       " 'base_estimator__max_leaf_nodes': None,\n",
       " 'base_estimator__max_samples': None,\n",
       " 'base_estimator__min_impurity_decrease': 0.0,\n",
       " 'base_estimator__min_impurity_split': None,\n",
       " 'base_estimator__min_samples_leaf': 1,\n",
       " 'base_estimator__min_samples_split': 2,\n",
       " 'base_estimator__min_weight_fraction_leaf': 0.0,\n",
       " 'base_estimator__n_estimators': 100,\n",
       " 'base_estimator__n_jobs': None,\n",
       " 'base_estimator__oob_score': False,\n",
       " 'base_estimator__random_state': 1,\n",
       " 'base_estimator__verbose': 0,\n",
       " 'base_estimator__warm_start': False,\n",
       " 'base_estimator': RandomForestClassifier(random_state=1),\n",
       " 'bootstrap': True,\n",
       " 'bootstrap_features': False,\n",
       " 'max_features': 1.0,\n",
       " 'max_samples': 1.0,\n",
       " 'n_estimators': 10,\n",
       " 'n_jobs': None,\n",
       " 'oob_score': False,\n",
       " 'random_state': None,\n",
       " 'verbose': 0,\n",
       " 'warm_start': False}"
      ]
     },
     "execution_count": 442,
     "metadata": {},
     "output_type": "execute_result"
    }
   ],
   "source": [
    "BG.get_params()"
   ]
  },
  {
   "cell_type": "code",
   "execution_count": 343,
   "metadata": {},
   "outputs": [],
   "source": [
    "train_pred_BG=BG.predict(X)\n",
    "test_pred_BG=BG.predict(X_test)"
   ]
  },
  {
   "cell_type": "code",
   "execution_count": 344,
   "metadata": {},
   "outputs": [],
   "source": [
    "train_prob_BG=BG.predict_proba(X)\n",
    "test_prob_BG=BG.predict_proba(X_test)"
   ]
  },
  {
   "cell_type": "markdown",
   "metadata": {},
   "source": [
    "# train"
   ]
  },
  {
   "cell_type": "code",
   "execution_count": 345,
   "metadata": {},
   "outputs": [
    {
     "name": "stdout",
     "output_type": "stream",
     "text": [
      "[[733   6]\n",
      " [ 30 292]]\n",
      "              precision    recall  f1-score   support\n",
      "\n",
      "           0       0.96      0.99      0.98       739\n",
      "           1       0.98      0.91      0.94       322\n",
      "\n",
      "    accuracy                           0.97      1061\n",
      "   macro avg       0.97      0.95      0.96      1061\n",
      "weighted avg       0.97      0.97      0.97      1061\n",
      "\n"
     ]
    }
   ],
   "source": [
    "print(confusion_matrix(Y,train_pred_BG))\n",
    "print(classification_report(Y,train_pred_BG))"
   ]
  },
  {
   "cell_type": "code",
   "execution_count": 346,
   "metadata": {},
   "outputs": [
    {
     "name": "stdout",
     "output_type": "stream",
     "text": [
      "auc 0.9964678640768538\n"
     ]
    },
    {
     "data": {
      "image/png": "[encoded data removed]",
      "text/plain": [
       "<Figure size 432x288 with 1 Axes>"
      ]
     },
     "metadata": {
      "needs_background": "light"
     },
     "output_type": "display_data"
    }
   ],
   "source": [
    "print('auc',roc_auc_score(Y,train_prob_BG[:,1]))\n",
    "train_fpr_BG,train_tpr_BG,thresholds=roc_curve(Y,train_prob_BG[:,1])\n",
    "plt.plot([0,1],[0,1],linestyle='--')\n",
    "plt.plot(train_fpr_BG,train_tpr_BG,marker='.')\n",
    "plt.show()"
   ]
  },
  {
   "cell_type": "markdown",
   "metadata": {},
   "source": [
    "# test"
   ]
  },
  {
   "cell_type": "code",
   "execution_count": 347,
   "metadata": {},
   "outputs": [
    {
     "name": "stdout",
     "output_type": "stream",
     "text": [
      "[[285  33]\n",
      " [ 43  95]]\n",
      "              precision    recall  f1-score   support\n",
      "\n",
      "           0       0.87      0.90      0.88       318\n",
      "           1       0.74      0.69      0.71       138\n",
      "\n",
      "    accuracy                           0.83       456\n",
      "   macro avg       0.81      0.79      0.80       456\n",
      "weighted avg       0.83      0.83      0.83       456\n",
      "\n"
     ]
    }
   ],
   "source": [
    "print(confusion_matrix(Y_test,test_pred_BG))\n",
    "print(classification_report(Y_test,test_pred_BG))"
   ]
  },
  {
   "cell_type": "code",
   "execution_count": 348,
   "metadata": {},
   "outputs": [
    {
     "name": "stdout",
     "output_type": "stream",
     "text": [
      "auc 0.8824970376446997\n"
     ]
    },
    {
     "data": {
      "image/png": "[encoded data removed]",
      "text/plain": [
       "<Figure size 432x288 with 1 Axes>"
      ]
     },
     "metadata": {
      "needs_background": "light"
     },
     "output_type": "display_data"
    }
   ],
   "source": [
    "print('auc',roc_auc_score(Y_test,test_prob_BG[:,1]))\n",
    "test_fpr_BG,test_tpr_BG,thresholds=roc_curve(Y_test,test_prob_BG[:,1])\n",
    "plt.plot([0,1],[0,1],linestyle='--')\n",
    "plt.plot(test_fpr_BG,test_tpr_BG,marker='.')\n",
    "plt.show()"
   ]
  },
  {
   "cell_type": "markdown",
   "metadata": {},
   "source": [
    "# AdaBoost"
   ]
  },
  {
   "cell_type": "code",
   "execution_count": 349,
   "metadata": {},
   "outputs": [],
   "source": [
    "AB=AdaBoostClassifier(random_state=1)"
   ]
  },
  {
   "cell_type": "code",
   "execution_count": 350,
   "metadata": {},
   "outputs": [
    {
     "data": {
      "text/plain": [
       "AdaBoostClassifier(random_state=1)"
      ]
     },
     "execution_count": 350,
     "metadata": {},
     "output_type": "execute_result"
    }
   ],
   "source": [
    "AB.fit(X,Y)"
   ]
  },
  {
   "cell_type": "code",
   "execution_count": 351,
   "metadata": {},
   "outputs": [],
   "source": [
    "train_pred_AB=AB.predict(X)\n",
    "test_pred_AB=AB.predict(X_test)"
   ]
  },
  {
   "cell_type": "code",
   "execution_count": 352,
   "metadata": {},
   "outputs": [],
   "source": [
    "train_prob_AB=AB.predict_proba(X)\n",
    "test_prob_AB=AB.predict_proba(X_test)"
   ]
  },
  {
   "cell_type": "markdown",
   "metadata": {},
   "source": [
    "# train"
   ]
  },
  {
   "cell_type": "code",
   "execution_count": 353,
   "metadata": {},
   "outputs": [
    {
     "name": "stdout",
     "output_type": "stream",
     "text": [
      "[[676  63]\n",
      " [ 90 232]]\n",
      "              precision    recall  f1-score   support\n",
      "\n",
      "           0       0.88      0.91      0.90       739\n",
      "           1       0.79      0.72      0.75       322\n",
      "\n",
      "    accuracy                           0.86      1061\n",
      "   macro avg       0.83      0.82      0.83      1061\n",
      "weighted avg       0.85      0.86      0.85      1061\n",
      "\n"
     ]
    }
   ],
   "source": [
    "print(confusion_matrix(Y,train_pred_AB))\n",
    "print(classification_report(Y,train_pred_AB))"
   ]
  },
  {
   "cell_type": "code",
   "execution_count": 354,
   "metadata": {},
   "outputs": [
    {
     "name": "stdout",
     "output_type": "stream",
     "text": [
      "auc 0.9148084956168736\n"
     ]
    },
    {
     "data": {
      "image/png": "[encoded data removed]",
      "text/plain": [
       "<Figure size 432x288 with 1 Axes>"
      ]
     },
     "metadata": {
      "needs_background": "light"
     },
     "output_type": "display_data"
    }
   ],
   "source": [
    "print('auc',roc_auc_score(Y,train_prob_AB[:,1]))\n",
    "train_fpr_AB,train_tpr_AB,thresholds=roc_curve(Y,train_prob_AB[:,1])\n",
    "plt.plot([0,1],[0,1],linestyle='--')\n",
    "plt.plot(train_fpr_AB,train_tpr_AB,marker='.')\n",
    "plt.show()"
   ]
  },
  {
   "cell_type": "markdown",
   "metadata": {},
   "source": [
    "# test"
   ]
  },
  {
   "cell_type": "code",
   "execution_count": 355,
   "metadata": {},
   "outputs": [
    {
     "name": "stdout",
     "output_type": "stream",
     "text": [
      "[[279  39]\n",
      " [ 44  94]]\n",
      "              precision    recall  f1-score   support\n",
      "\n",
      "           0       0.86      0.88      0.87       318\n",
      "           1       0.71      0.68      0.69       138\n",
      "\n",
      "    accuracy                           0.82       456\n",
      "   macro avg       0.79      0.78      0.78       456\n",
      "weighted avg       0.82      0.82      0.82       456\n",
      "\n"
     ]
    }
   ],
   "source": [
    "print(confusion_matrix(Y_test,test_pred_AB))\n",
    "print(classification_report(Y_test,test_pred_AB))"
   ]
  },
  {
   "cell_type": "code",
   "execution_count": 356,
   "metadata": {},
   "outputs": [
    {
     "name": "stdout",
     "output_type": "stream",
     "text": [
      "auc 0.8708868836022239\n"
     ]
    },
    {
     "data": {
      "image/png": "[encoded data removed]",
      "text/plain": [
       "<Figure size 432x288 with 1 Axes>"
      ]
     },
     "metadata": {
      "needs_background": "light"
     },
     "output_type": "display_data"
    }
   ],
   "source": [
    "print('auc',roc_auc_score(Y_test,test_prob_AB[:,1]))\n",
    "test_fpr_AB,test_tpr_AB,thresholds=roc_curve(Y_test,test_prob_AB[:,1])\n",
    "plt.plot([0,1],[0,1],linestyle='--')\n",
    "plt.plot(test_fpr_AB,test_tpr_AB,marker='.')\n",
    "plt.show()"
   ]
  },
  {
   "cell_type": "markdown",
   "metadata": {},
   "source": [
    "# Gradient Boosting"
   ]
  },
  {
   "cell_type": "code",
   "execution_count": 357,
   "metadata": {},
   "outputs": [],
   "source": [
    "GB=GradientBoostingClassifier(random_state=1)"
   ]
  },
  {
   "cell_type": "code",
   "execution_count": 358,
   "metadata": {},
   "outputs": [
    {
     "data": {
      "text/plain": [
       "GradientBoostingClassifier(random_state=1)"
      ]
     },
     "execution_count": 358,
     "metadata": {},
     "output_type": "execute_result"
    }
   ],
   "source": [
    "GB.fit(X,Y)"
   ]
  },
  {
   "cell_type": "code",
   "execution_count": 359,
   "metadata": {},
   "outputs": [],
   "source": [
    "train_pred_GB=GB.predict(X)\n",
    "test_pred_GB=GB.predict(X_test)"
   ]
  },
  {
   "cell_type": "code",
   "execution_count": 360,
   "metadata": {},
   "outputs": [],
   "source": [
    "train_prob_GB=GB.predict_proba(X)\n",
    "test_prob_GB=GB.predict_proba(X_test)"
   ]
  },
  {
   "cell_type": "markdown",
   "metadata": {},
   "source": [
    "# train"
   ]
  },
  {
   "cell_type": "code",
   "execution_count": 361,
   "metadata": {},
   "outputs": [
    {
     "name": "stdout",
     "output_type": "stream",
     "text": [
      "[[700  39]\n",
      " [ 72 250]]\n",
      "              precision    recall  f1-score   support\n",
      "\n",
      "           0       0.91      0.95      0.93       739\n",
      "           1       0.87      0.78      0.82       322\n",
      "\n",
      "    accuracy                           0.90      1061\n",
      "   macro avg       0.89      0.86      0.87      1061\n",
      "weighted avg       0.89      0.90      0.89      1061\n",
      "\n"
     ]
    }
   ],
   "source": [
    "print(confusion_matrix(Y,train_pred_GB))\n",
    "print(classification_report(Y,train_pred_GB))"
   ]
  },
  {
   "cell_type": "code",
   "execution_count": 362,
   "metadata": {},
   "outputs": [
    {
     "name": "stdout",
     "output_type": "stream",
     "text": [
      "auc 0.9528257087385168\n"
     ]
    },
    {
     "data": {
      "image/png": "[encoded data removed]",
      "text/plain": [
       "<Figure size 432x288 with 1 Axes>"
      ]
     },
     "metadata": {
      "needs_background": "light"
     },
     "output_type": "display_data"
    }
   ],
   "source": [
    "print('auc',roc_auc_score(Y,train_prob_GB[:,1]))\n",
    "train_fpr_GB,train_tpr_GB,thresholds=roc_curve(Y,train_prob_GB[:,1])\n",
    "plt.plot([0,1],[0,1],linestyle='--')\n",
    "plt.plot(train_fpr_GB,train_tpr_GB,marker='.')\n",
    "plt.show()"
   ]
  },
  {
   "cell_type": "markdown",
   "metadata": {},
   "source": [
    "# test"
   ]
  },
  {
   "cell_type": "code",
   "execution_count": 363,
   "metadata": {},
   "outputs": [
    {
     "name": "stdout",
     "output_type": "stream",
     "text": [
      "[[279  39]\n",
      " [ 46  92]]\n",
      "              precision    recall  f1-score   support\n",
      "\n",
      "           0       0.86      0.88      0.87       318\n",
      "           1       0.70      0.67      0.68       138\n",
      "\n",
      "    accuracy                           0.81       456\n",
      "   macro avg       0.78      0.77      0.78       456\n",
      "weighted avg       0.81      0.81      0.81       456\n",
      "\n"
     ]
    }
   ],
   "source": [
    "print(confusion_matrix(Y_test,test_pred_GB))\n",
    "print(classification_report(Y_test,test_pred_GB))"
   ]
  },
  {
   "cell_type": "code",
   "execution_count": 364,
   "metadata": {},
   "outputs": [
    {
     "name": "stdout",
     "output_type": "stream",
     "text": [
      "auc 0.890803026159876\n"
     ]
    },
    {
     "data": {
      "image/png": "[encoded data removed]",
      "text/plain": [
       "<Figure size 432x288 with 1 Axes>"
      ]
     },
     "metadata": {
      "needs_background": "light"
     },
     "output_type": "display_data"
    }
   ],
   "source": [
    "print('auc',roc_auc_score(Y_test,test_prob_GB[:,1]))\n",
    "test_fpr_GB,test_tpr_GB,thresholds=roc_curve(Y_test,test_prob_GB[:,1])\n",
    "plt.plot([0,1],[0,1],linestyle='--')\n",
    "plt.plot(test_fpr_GB,test_tpr_GB,marker='.')\n",
    "plt.show()"
   ]
  },
  {
   "cell_type": "markdown",
   "metadata": {},
   "source": [
    "# comparison report for all models"
   ]
  },
  {
   "cell_type": "code",
   "execution_count": 365,
   "metadata": {},
   "outputs": [],
   "source": [
    "train_acc_LR=LR.score(X,Y)\n",
    "test_acc_LR=LR.score(X_test,Y_test)\n",
    "train_auc_LR = roc_auc_score(Y, train_prob_LR[:,1])\n",
    "test_auc_LR = roc_auc_score(Y_test, test_prob_LR[:,1])"
   ]
  },
  {
   "cell_type": "code",
   "execution_count": 366,
   "metadata": {},
   "outputs": [],
   "source": [
    "train_metrics_LR=classification_report(Y, train_pred_LR,output_dict=True)\n",
    "df=pd.DataFrame(train_metrics_LR).transpose()\n",
    "train_f1_LR=round(df.loc[\"1\"][2],2)\n",
    "train_recall_LR=round(df.loc[\"1\"][1],2)\n",
    "train_precision_LR=round(df.loc[\"1\"][0],2)"
   ]
  },
  {
   "cell_type": "code",
   "execution_count": 367,
   "metadata": {},
   "outputs": [],
   "source": [
    "test_metrics_LR=classification_report(Y_test, test_pred_LR,output_dict=True)\n",
    "df=pd.DataFrame(test_metrics_LR).transpose()\n",
    "test_f1_LR=round(df.loc[\"1\"][2],2)\n",
    "test_recall_LR=round(df.loc[\"1\"][1],2)\n",
    "test_precision_LR=round(df.loc[\"1\"][0],2)"
   ]
  },
  {
   "cell_type": "code",
   "execution_count": 368,
   "metadata": {},
   "outputs": [],
   "source": [
    "train_acc_LDA=LDA.score(X,Y)\n",
    "test_acc_LDA=LDA.score(X_test,Y_test)\n",
    "train_auc_LDA = roc_auc_score(Y, train_prob_LDA[:,1])\n",
    "test_auc_LDA = roc_auc_score(Y_test, test_prob_LDA[:,1])"
   ]
  },
  {
   "cell_type": "code",
   "execution_count": 369,
   "metadata": {},
   "outputs": [],
   "source": [
    "train_metrics_LDA=classification_report(Y, train_pred_LDA,output_dict=True)\n",
    "df=pd.DataFrame(train_metrics_LDA).transpose()\n",
    "train_f1_LDA=round(df.loc[\"1\"][2],2)\n",
    "train_recall_LDA=round(df.loc[\"1\"][1],2)\n",
    "train_precision_LDA=round(df.loc[\"1\"][0],2)"
   ]
  },
  {
   "cell_type": "code",
   "execution_count": 370,
   "metadata": {},
   "outputs": [],
   "source": [
    "test_metrics_LDA=classification_report(Y_test, test_pred_LDA,output_dict=True)\n",
    "df=pd.DataFrame(test_metrics_LDA).transpose()\n",
    "test_f1_LDA=round(df.loc[\"1\"][2],2)\n",
    "test_recall_LDA=round(df.loc[\"1\"][1],2)\n",
    "test_precision_LDA=round(df.loc[\"1\"][0],2)"
   ]
  },
  {
   "cell_type": "code",
   "execution_count": 371,
   "metadata": {},
   "outputs": [],
   "source": [
    "train_acc_KNN=KNN.score(X,Y)\n",
    "test_acc_KNN=KNN.score(X_test,Y_test)\n",
    "train_auc_KNN = roc_auc_score(Y, train_prob_KNN[:,1])\n",
    "test_auc_KNN = roc_auc_score(Y_test, test_prob_KNN[:,1])"
   ]
  },
  {
   "cell_type": "code",
   "execution_count": 372,
   "metadata": {},
   "outputs": [],
   "source": [
    "train_metrics_KNN=classification_report(Y, train_pred_KNN,output_dict=True)\n",
    "df=pd.DataFrame(train_metrics_KNN).transpose()\n",
    "train_f1_KNN=round(df.loc[\"1\"][2],2)\n",
    "train_recall_KNN=round(df.loc[\"1\"][1],2)\n",
    "train_precision_KNN=round(df.loc[\"1\"][0],2)"
   ]
  },
  {
   "cell_type": "code",
   "execution_count": 373,
   "metadata": {},
   "outputs": [],
   "source": [
    "test_metrics_KNN=classification_report(Y_test, test_pred_KNN,output_dict=True)\n",
    "df=pd.DataFrame(test_metrics_KNN).transpose()\n",
    "test_f1_KNN=round(df.loc[\"1\"][2],2)\n",
    "test_recall_KNN=round(df.loc[\"1\"][1],2)\n",
    "test_precision_KNN=round(df.loc[\"1\"][0],2)"
   ]
  },
  {
   "cell_type": "code",
   "execution_count": 374,
   "metadata": {},
   "outputs": [],
   "source": [
    "train_acc_NB=NB.score(X,Y)\n",
    "test_acc_NB=NB.score(X_test,Y_test)\n",
    "train_auc_NB = roc_auc_score(Y, train_prob_NB[:,1])\n",
    "test_auc_NB = roc_auc_score(Y_test, test_prob_NB[:,1])"
   ]
  },
  {
   "cell_type": "code",
   "execution_count": 375,
   "metadata": {},
   "outputs": [],
   "source": [
    "train_metrics_NB=classification_report(Y, train_pred_NB,output_dict=True)\n",
    "df=pd.DataFrame(train_metrics_NB).transpose()\n",
    "train_f1_NB=round(df.loc[\"1\"][2],2)\n",
    "train_recall_NB=round(df.loc[\"1\"][1],2)\n",
    "train_precision_NB=round(df.loc[\"1\"][0],2)"
   ]
  },
  {
   "cell_type": "code",
   "execution_count": 376,
   "metadata": {},
   "outputs": [],
   "source": [
    "test_metrics_NB=classification_report(Y_test, test_pred_NB,output_dict=True)\n",
    "df=pd.DataFrame(test_metrics_NB).transpose()\n",
    "test_f1_NB=round(df.loc[\"1\"][2],2)\n",
    "test_recall_NB=round(df.loc[\"1\"][1],2)\n",
    "test_precision_NB=round(df.loc[\"1\"][0],2)"
   ]
  },
  {
   "cell_type": "code",
   "execution_count": 377,
   "metadata": {},
   "outputs": [],
   "source": [
    "train_acc_GB=GB.score(X,Y)\n",
    "test_acc_GB=GB.score(X_test,Y_test)\n",
    "train_auc_GB = roc_auc_score(Y, train_prob_GB[:,1])\n",
    "test_auc_GB = roc_auc_score(Y_test, test_prob_GB[:,1])"
   ]
  },
  {
   "cell_type": "code",
   "execution_count": 378,
   "metadata": {},
   "outputs": [],
   "source": [
    "train_metrics_GB=classification_report(Y, train_pred_GB,output_dict=True)\n",
    "df=pd.DataFrame(train_metrics_GB).transpose()\n",
    "train_f1_GB=round(df.loc[\"1\"][2],2)\n",
    "train_recall_GB=round(df.loc[\"1\"][1],2)\n",
    "train_precision_GB=round(df.loc[\"1\"][0],2)"
   ]
  },
  {
   "cell_type": "code",
   "execution_count": 379,
   "metadata": {},
   "outputs": [],
   "source": [
    "test_metrics_GB=classification_report(Y_test, test_pred_GB,output_dict=True)\n",
    "df=pd.DataFrame(test_metrics_GB).transpose()\n",
    "test_f1_GB=round(df.loc[\"1\"][2],2)\n",
    "test_recall_GB=round(df.loc[\"1\"][1],2)\n",
    "test_precision_GB=round(df.loc[\"1\"][0],2)"
   ]
  },
  {
   "cell_type": "code",
   "execution_count": 380,
   "metadata": {},
   "outputs": [],
   "source": [
    "train_acc_AB=AB.score(X,Y)\n",
    "test_acc_AB=AB.score(X_test,Y_test)\n",
    "train_auc_AB = roc_auc_score(Y, train_prob_AB[:,1])\n",
    "test_auc_AB = roc_auc_score(Y_test, test_prob_AB[:,1])"
   ]
  },
  {
   "cell_type": "code",
   "execution_count": 381,
   "metadata": {},
   "outputs": [],
   "source": [
    "train_metrics_AB=classification_report(Y, train_pred_AB,output_dict=True)\n",
    "df=pd.DataFrame(train_metrics_AB).transpose()\n",
    "train_f1_AB=round(df.loc[\"1\"][2],2)\n",
    "train_recall_AB=round(df.loc[\"1\"][1],2)\n",
    "train_precision_AB=round(df.loc[\"1\"][0],2)"
   ]
  },
  {
   "cell_type": "code",
   "execution_count": 382,
   "metadata": {},
   "outputs": [],
   "source": [
    "test_metrics_AB=classification_report(Y_test, test_pred_AB,output_dict=True)\n",
    "df=pd.DataFrame(test_metrics_AB).transpose()\n",
    "test_f1_AB=round(df.loc[\"1\"][2],2)\n",
    "test_recall_AB=round(df.loc[\"1\"][1],2)\n",
    "test_precision_AB=round(df.loc[\"1\"][0],2)"
   ]
  },
  {
   "cell_type": "code",
   "execution_count": 383,
   "metadata": {},
   "outputs": [],
   "source": [
    "train_acc_BG=BG.score(X,Y)\n",
    "test_acc_BG=BG.score(X_test,Y_test)\n",
    "train_auc_BG = roc_auc_score(Y, train_prob_BG[:,1])\n",
    "test_auc_BG = roc_auc_score(Y_test, test_prob_BG[:,1])"
   ]
  },
  {
   "cell_type": "code",
   "execution_count": 384,
   "metadata": {},
   "outputs": [],
   "source": [
    "train_metrics_BG=classification_report(Y, train_pred_BG,output_dict=True)\n",
    "df=pd.DataFrame(train_metrics_BG).transpose()\n",
    "train_f1_BG=round(df.loc[\"1\"][2],2)\n",
    "train_recall_BG=round(df.loc[\"1\"][1],2)\n",
    "train_precision_BG=round(df.loc[\"1\"][0],2)"
   ]
  },
  {
   "cell_type": "code",
   "execution_count": 385,
   "metadata": {},
   "outputs": [],
   "source": [
    "test_metrics_BG=classification_report(Y_test, test_pred_BG,output_dict=True)\n",
    "df=pd.DataFrame(test_metrics_BG).transpose()\n",
    "test_f1_BG=round(df.loc[\"1\"][2],2)\n",
    "test_recall_BG=round(df.loc[\"1\"][1],2)\n",
    "test_precision_BG=round(df.loc[\"1\"][0],2)"
   ]
  },
  {
   "cell_type": "code",
   "execution_count": 386,
   "metadata": {},
   "outputs": [
    {
     "data": {
      "text/html": [
       "<div>\n",
       "<style scoped>\n",
       "    .dataframe tbody tr th:only-of-type {\n",
       "        vertical-align: middle;\n",
       "    }\n",
       "\n",
       "    .dataframe tbody tr th {\n",
       "        vertical-align: top;\n",
       "    }\n",
       "\n",
       "    .dataframe thead th {\n",
       "        text-align: right;\n",
       "    }\n",
       "</style>\n",
       "<table border=\"1\" class=\"dataframe\">\n",
       "  <thead>\n",
       "    <tr style=\"text-align: right;\">\n",
       "      <th></th>\n",
       "      <th>Logit Train</th>\n",
       "      <th>Logit Test</th>\n",
       "      <th>LDA Train</th>\n",
       "      <th>LDA Test</th>\n",
       "      <th>KNN Train</th>\n",
       "      <th>KNN Test</th>\n",
       "      <th>Naive Train</th>\n",
       "      <th>Naive Test</th>\n",
       "      <th>Bagging Train</th>\n",
       "      <th>Bagging Test</th>\n",
       "      <th>Ada Train</th>\n",
       "      <th>Ada Test</th>\n",
       "      <th>Grad Train</th>\n",
       "      <th>Grad Test</th>\n",
       "    </tr>\n",
       "  </thead>\n",
       "  <tbody>\n",
       "    <tr>\n",
       "      <th>Accuracy</th>\n",
       "      <td>0.85</td>\n",
       "      <td>0.81</td>\n",
       "      <td>0.84</td>\n",
       "      <td>0.81</td>\n",
       "      <td>0.86</td>\n",
       "      <td>0.81</td>\n",
       "      <td>0.84</td>\n",
       "      <td>0.82</td>\n",
       "      <td>0.97</td>\n",
       "      <td>0.83</td>\n",
       "      <td>0.86</td>\n",
       "      <td>0.82</td>\n",
       "      <td>0.90</td>\n",
       "      <td>0.81</td>\n",
       "    </tr>\n",
       "    <tr>\n",
       "      <th>AUC</th>\n",
       "      <td>0.89</td>\n",
       "      <td>0.87</td>\n",
       "      <td>0.89</td>\n",
       "      <td>0.87</td>\n",
       "      <td>0.93</td>\n",
       "      <td>0.85</td>\n",
       "      <td>0.89</td>\n",
       "      <td>0.88</td>\n",
       "      <td>1.00</td>\n",
       "      <td>0.88</td>\n",
       "      <td>0.91</td>\n",
       "      <td>0.87</td>\n",
       "      <td>0.95</td>\n",
       "      <td>0.89</td>\n",
       "    </tr>\n",
       "    <tr>\n",
       "      <th>Recall</th>\n",
       "      <td>0.68</td>\n",
       "      <td>0.67</td>\n",
       "      <td>0.69</td>\n",
       "      <td>0.69</td>\n",
       "      <td>0.73</td>\n",
       "      <td>0.69</td>\n",
       "      <td>0.71</td>\n",
       "      <td>0.74</td>\n",
       "      <td>0.91</td>\n",
       "      <td>0.69</td>\n",
       "      <td>0.72</td>\n",
       "      <td>0.68</td>\n",
       "      <td>0.78</td>\n",
       "      <td>0.67</td>\n",
       "    </tr>\n",
       "    <tr>\n",
       "      <th>Precision</th>\n",
       "      <td>0.78</td>\n",
       "      <td>0.69</td>\n",
       "      <td>0.77</td>\n",
       "      <td>0.68</td>\n",
       "      <td>0.78</td>\n",
       "      <td>0.69</td>\n",
       "      <td>0.74</td>\n",
       "      <td>0.69</td>\n",
       "      <td>0.98</td>\n",
       "      <td>0.74</td>\n",
       "      <td>0.79</td>\n",
       "      <td>0.71</td>\n",
       "      <td>0.87</td>\n",
       "      <td>0.70</td>\n",
       "    </tr>\n",
       "    <tr>\n",
       "      <th>F1 Score</th>\n",
       "      <td>0.73</td>\n",
       "      <td>0.68</td>\n",
       "      <td>0.73</td>\n",
       "      <td>0.68</td>\n",
       "      <td>0.76</td>\n",
       "      <td>0.69</td>\n",
       "      <td>0.72</td>\n",
       "      <td>0.71</td>\n",
       "      <td>0.94</td>\n",
       "      <td>0.71</td>\n",
       "      <td>0.75</td>\n",
       "      <td>0.69</td>\n",
       "      <td>0.82</td>\n",
       "      <td>0.68</td>\n",
       "    </tr>\n",
       "  </tbody>\n",
       "</table>\n",
       "</div>"
      ],
      "text/plain": [
       "           Logit Train  Logit Test  LDA Train  LDA Test  KNN Train  KNN Test  \\\n",
       "Accuracy          0.85        0.81       0.84      0.81       0.86      0.81   \n",
       "AUC               0.89        0.87       0.89      0.87       0.93      0.85   \n",
       "Recall            0.68        0.67       0.69      0.69       0.73      0.69   \n",
       "Precision         0.78        0.69       0.77      0.68       0.78      0.69   \n",
       "F1 Score          0.73        0.68       0.73      0.68       0.76      0.69   \n",
       "\n",
       "           Naive Train  Naive Test  Bagging Train  Bagging Test  Ada Train  \\\n",
       "Accuracy          0.84        0.82           0.97          0.83       0.86   \n",
       "AUC               0.89        0.88           1.00          0.88       0.91   \n",
       "Recall            0.71        0.74           0.91          0.69       0.72   \n",
       "Precision         0.74        0.69           0.98          0.74       0.79   \n",
       "F1 Score          0.72        0.71           0.94          0.71       0.75   \n",
       "\n",
       "           Ada Test  Grad Train  Grad Test  \n",
       "Accuracy       0.82        0.90       0.81  \n",
       "AUC            0.87        0.95       0.89  \n",
       "Recall         0.68        0.78       0.67  \n",
       "Precision      0.71        0.87       0.70  \n",
       "F1 Score       0.69        0.82       0.68  "
      ]
     },
     "execution_count": 386,
     "metadata": {},
     "output_type": "execute_result"
    }
   ],
   "source": [
    "index=['Accuracy', 'AUC', 'Recall','Precision','F1 Score']\n",
    "data = pd.DataFrame({'Logit Train':[train_acc_LR,train_auc_LR,train_recall_LR,train_precision_LR,train_f1_LR],\n",
    "        'Logit Test':[test_acc_LR,test_auc_LR,test_recall_LR,test_precision_LR,test_f1_LR],\n",
    "       'LDA Train':[train_acc_LDA,train_auc_LDA,train_recall_LDA,train_precision_LDA,train_f1_LDA],\n",
    "        'LDA Test':[test_acc_LDA,test_auc_LDA,test_recall_LDA,test_precision_LDA,test_f1_LDA],\n",
    "       'KNN Train':[train_acc_KNN,train_auc_KNN,train_recall_KNN,train_precision_KNN,train_f1_KNN],\n",
    "        'KNN Test':[test_acc_KNN,test_auc_KNN,test_recall_KNN,test_precision_KNN,test_f1_KNN],\n",
    "        'Naive Train':[train_acc_NB,train_auc_NB,train_recall_NB,train_precision_NB,train_f1_NB],\n",
    "        'Naive Test':[test_acc_NB,test_auc_NB,test_recall_NB,test_precision_NB,test_f1_NB],\n",
    "        'Bagging Train':[train_acc_BG,train_auc_BG,train_recall_BG,train_precision_BG,train_f1_BG],\n",
    "        'Bagging Test':[test_acc_BG,test_auc_BG,test_recall_BG,test_precision_BG,test_f1_BG],\n",
    "        'Ada Train':[train_acc_AB,train_auc_AB,train_recall_AB,train_precision_AB,train_f1_AB],\n",
    "        'Ada Test':[test_acc_AB,test_auc_AB,test_recall_AB,test_precision_AB,test_f1_AB],\n",
    "        'Grad Train':[train_acc_GB,train_auc_GB,train_recall_GB,train_precision_GB,train_f1_GB],\n",
    "        'Grad Test':[test_acc_GB,test_auc_GB,test_recall_GB,test_precision_GB,test_f1_GB]},index=index)\n",
    "round(data,2)"
   ]
  },
  {
   "cell_type": "code",
   "execution_count": 387,
   "metadata": {},
   "outputs": [
    {
     "data": {
      "text/plain": [
       "<matplotlib.legend.Legend at 0x24e849ef988>"
      ]
     },
     "execution_count": 387,
     "metadata": {},
     "output_type": "execute_result"
    },
    {
     "data": {
      "image/png": "[encoded data removed]",
      "text/plain": [
       "<Figure size 432x288 with 1 Axes>"
      ]
     },
     "metadata": {
      "needs_background": "light"
     },
     "output_type": "display_data"
    }
   ],
   "source": [
    "plt.plot([0, 1], [0, 1], linestyle='--')\n",
    "plt.plot(train_fpr_LR, train_tpr_LR,color='red',label=\"train_Logit\")\n",
    "plt.plot(train_fpr_LDA,train_tpr_LDA,color='green',label=\"train_LDA\")\n",
    "plt.plot(train_fpr_KNN,train_tpr_KNN,color='black',label=\"train_KNN\")\n",
    "plt.plot(train_fpr_NB,train_tpr_NB,color='orange',label=\"train_Naive\")\n",
    "plt.plot(train_fpr_NB,train_tpr_NB,color='pink',label=\"train_Bagg\")\n",
    "plt.plot(train_fpr_NB,train_tpr_NB,color='brown',label=\"train_Ada\")\n",
    "plt.plot(train_fpr_NB,train_tpr_NB,color='blue',label=\"train_Grad\")\n",
    "plt.xlabel('False Positive Rate')\n",
    "plt.ylabel('True Positive Rate')\n",
    "plt.title('ROC')\n",
    "plt.legend(bbox_to_anchor=(0., 1.02, 1., .102), loc='lower right')\n",
    "plt.plot([0, 1], [0, 1], linestyle='--')\n",
    "plt.plot(test_fpr_LR, test_tpr_LR,color='red',label=\"test_Logit\")\n",
    "plt.plot(test_fpr_LDA,test_tpr_LDA,color='green',label=\"test_LDA\")\n",
    "plt.plot(test_fpr_KNN,test_tpr_KNN,color='black',label=\"test_KNN\")\n",
    "plt.plot(test_fpr_NB,test_tpr_NB,color='orange',label=\"test_Naive\")\n",
    "plt.plot(test_fpr_BG,test_tpr_BG,color='pink',label=\"test_Bagg\")\n",
    "plt.plot(test_fpr_AB,test_tpr_AB,color='brown',label=\"test_Ada\")\n",
    "plt.plot(test_fpr_GB,test_tpr_GB,color='blue',label=\"test_Grad\")\n",
    "plt.xlabel('False Positive Rate')\n",
    "plt.ylabel('True Positive Rate')\n",
    "plt.title('ROC')\n",
    "plt.legend(bbox_to_anchor=(0., 1.02, 1., .102), loc='lower right')"
   ]
  },
  {
   "cell_type": "code",
   "execution_count": null,
   "metadata": {},
   "outputs": [],
   "source": []
  },
  {
   "cell_type": "markdown",
   "metadata": {},
   "source": [
    "# Bagging Classifier seems to be best one among all based on performance metrics"
   ]
  },
  {
   "cell_type": "markdown",
   "metadata": {},
   "source": [
    "# Hyperparameter tuning for Bagging Classifier"
   ]
  },
  {
   "cell_type": "code",
   "execution_count": 454,
   "metadata": {},
   "outputs": [],
   "source": [
    "params={'n_estimators':[10,40,50],\n",
    "        'base_estimator__n_estimators':[100,70,50],\n",
    "       'base_estimator__min_samples_split':[2,5],\n",
    "        'base_estimator__max_depth':[1,2]}"
   ]
  },
  {
   "cell_type": "code",
   "execution_count": 455,
   "metadata": {},
   "outputs": [],
   "source": [
    "BG_tuned=GridSearchCV(BaggingClassifier(base_estimator=RandomForestClassifier()), param_grid=params, cv=3)"
   ]
  },
  {
   "cell_type": "code",
   "execution_count": 456,
   "metadata": {},
   "outputs": [
    {
     "data": {
      "text/plain": [
       "GridSearchCV(cv=3,\n",
       "             estimator=BaggingClassifier(base_estimator=RandomForestClassifier()),\n",
       "             param_grid={'base_estimator__max_depth': [1, 2],\n",
       "                         'base_estimator__min_samples_split': [2, 5],\n",
       "                         'base_estimator__n_estimators': [100, 70, 50],\n",
       "                         'n_estimators': [10, 40, 50]})"
      ]
     },
     "execution_count": 456,
     "metadata": {},
     "output_type": "execute_result"
    }
   ],
   "source": [
    "BG_tuned.fit(X,Y)"
   ]
  },
  {
   "cell_type": "code",
   "execution_count": 457,
   "metadata": {},
   "outputs": [
    {
     "data": {
      "text/plain": [
       "{'base_estimator__max_depth': 2,\n",
       " 'base_estimator__min_samples_split': 2,\n",
       " 'base_estimator__n_estimators': 70,\n",
       " 'n_estimators': 40}"
      ]
     },
     "execution_count": 457,
     "metadata": {},
     "output_type": "execute_result"
    }
   ],
   "source": [
    "BG_tuned.best_params_"
   ]
  },
  {
   "cell_type": "code",
   "execution_count": 459,
   "metadata": {},
   "outputs": [],
   "source": [
    "train_pred_BG_tuned=BG_tuned.predict(X)\n",
    "test_pred_BG_tuned=BG_tuned.predict(X_test)"
   ]
  },
  {
   "cell_type": "code",
   "execution_count": 460,
   "metadata": {},
   "outputs": [],
   "source": [
    "train_prob_BG_tuned=BG_tuned.predict_proba(X)\n",
    "test_prob_BG_tuned=BG_tuned.predict_proba(X_test)"
   ]
  },
  {
   "cell_type": "markdown",
   "metadata": {},
   "source": [
    "# train"
   ]
  },
  {
   "cell_type": "code",
   "execution_count": 461,
   "metadata": {},
   "outputs": [
    {
     "name": "stdout",
     "output_type": "stream",
     "text": [
      "[[716  23]\n",
      " [188 134]]\n",
      "              precision    recall  f1-score   support\n",
      "\n",
      "           0       0.79      0.97      0.87       739\n",
      "           1       0.85      0.42      0.56       322\n",
      "\n",
      "    accuracy                           0.80      1061\n",
      "   macro avg       0.82      0.69      0.72      1061\n",
      "weighted avg       0.81      0.80      0.78      1061\n",
      "\n"
     ]
    }
   ],
   "source": [
    "print(confusion_matrix(Y,train_pred_BG_tuned))\n",
    "print(classification_report(Y,train_pred_BG_tuned))"
   ]
  },
  {
   "cell_type": "code",
   "execution_count": 462,
   "metadata": {},
   "outputs": [
    {
     "name": "stdout",
     "output_type": "stream",
     "text": [
      "auc 0.8939329629598501\n"
     ]
    },
    {
     "data": {
      "image/png": "[encoded data removed]",
      "text/plain": [
       "<Figure size 432x288 with 1 Axes>"
      ]
     },
     "metadata": {
      "needs_background": "light"
     },
     "output_type": "display_data"
    }
   ],
   "source": [
    "print('auc',roc_auc_score(Y,train_prob_BG_tuned[:,1]))\n",
    "train_fpr_BG_tuned,train_tpr_BG_tuned,thresholds=roc_curve(Y,train_prob_BG_tuned[:,1])\n",
    "plt.plot([0,1],[0,1],linestyle='--')\n",
    "plt.plot(train_fpr_BG_tuned,train_tpr_BG_tuned,marker='.')\n",
    "plt.show()"
   ]
  },
  {
   "cell_type": "markdown",
   "metadata": {},
   "source": [
    "# test"
   ]
  },
  {
   "cell_type": "code",
   "execution_count": 463,
   "metadata": {},
   "outputs": [
    {
     "name": "stdout",
     "output_type": "stream",
     "text": [
      "[[297  21]\n",
      " [ 84  54]]\n",
      "              precision    recall  f1-score   support\n",
      "\n",
      "           0       0.78      0.93      0.85       318\n",
      "           1       0.72      0.39      0.51       138\n",
      "\n",
      "    accuracy                           0.77       456\n",
      "   macro avg       0.75      0.66      0.68       456\n",
      "weighted avg       0.76      0.77      0.75       456\n",
      "\n"
     ]
    }
   ],
   "source": [
    "print(confusion_matrix(Y_test,test_pred_BG_tuned))\n",
    "print(classification_report(Y_test,test_pred_BG_tuned))"
   ]
  },
  {
   "cell_type": "code",
   "execution_count": 464,
   "metadata": {},
   "outputs": [
    {
     "name": "stdout",
     "output_type": "stream",
     "text": [
      "auc 0.8753987785981223\n"
     ]
    },
    {
     "data": {
      "image/png": "[encoded data removed]",
      "text/plain": [
       "<Figure size 432x288 with 1 Axes>"
      ]
     },
     "metadata": {
      "needs_background": "light"
     },
     "output_type": "display_data"
    }
   ],
   "source": [
    "print('auc',roc_auc_score(Y_test,test_prob_BG_tuned[:,1]))\n",
    "test_fpr_BG_tuned,test_tpr_BG_tuned,thresholds=roc_curve(Y_test,test_prob_BG_tuned[:,1])\n",
    "plt.plot([0,1],[0,1],linestyle='--')\n",
    "plt.plot(test_fpr_BG_tuned,test_tpr_BG_tuned,marker='.')\n",
    "plt.show()"
   ]
  },
  {
   "cell_type": "markdown",
   "metadata": {},
   "source": [
    "# the hyparameter tuning didnt improve the accuracy, and the default parameter is the best one"
   ]
  },
  {
   "cell_type": "code",
   "execution_count": null,
   "metadata": {},
   "outputs": [],
   "source": []
  }
 ],
 "metadata": {
  "kernelspec": {
   "display_name": "Python 3",
   "language": "python",
   "name": "python3"
  },
  "language_info": {
   "codemirror_mode": {
    "name": "ipython",
    "version": 3
   },
   "file_extension": ".py",
   "mimetype": "text/x-python",
   "name": "python",
   "nbconvert_exporter": "python",
   "pygments_lexer": "ipython3",
   "version": "3.7.6"
  }
 },
 "nbformat": 4,
 "nbformat_minor": 4
}
